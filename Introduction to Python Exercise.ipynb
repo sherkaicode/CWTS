{
 "cells": [
  {
   "cell_type": "markdown",
   "id": "087e80d4",
   "metadata": {},
   "source": [
    "# Introduction to Python Exercise"
   ]
  },
  {
   "cell_type": "markdown",
   "id": "98af239c",
   "metadata": {},
   "source": [
    "### Variable Naming Exercise"
   ]
  },
  {
   "cell_type": "code",
   "execution_count": 23,
   "id": "083b174d",
   "metadata": {},
   "outputs": [],
   "source": [
    "import numpy as np\n",
    "import pandas as pd\n",
    "from checker import checker_ans\n",
    "\n",
    "score = {}\n",
    "\n",
    "for i in range(1, 21):\n",
    "    score[f\"{i}\"] = 0\n",
    "\n",
    "def check_score(score):\n",
    "    total_sum = 0\n",
    "    for i in range(1, 21):\n",
    "        total_sum = total_sum + score[f\"{i}\"]\n",
    "    return f\"You Total Score is {total_sum}\"\n"
   ]
  },
  {
   "cell_type": "markdown",
   "id": "62f0a003",
   "metadata": {},
   "source": [
    "##### Question 1"
   ]
  },
  {
   "cell_type": "code",
   "execution_count": 24,
   "id": "c72202d4",
   "metadata": {},
   "outputs": [
    {
     "data": {
      "text/plain": [
       "'Try again'"
      ]
     },
     "execution_count": 24,
     "metadata": {},
     "output_type": "execute_result"
    }
   ],
   "source": [
    "num = 1\n",
    "\"\"\"\n",
    "True or False: Is the variable '1st_name' valid in Python?\n",
    "\"\"\"\n",
    "answer = None\n",
    "\n",
    "checker_ans(answer, num, score)"
   ]
  },
  {
   "cell_type": "markdown",
   "id": "8485e7e2",
   "metadata": {},
   "source": [
    "##### Question 2"
   ]
  },
  {
   "cell_type": "code",
   "execution_count": 25,
   "id": "6bc0edf3",
   "metadata": {},
   "outputs": [
    {
     "data": {
      "text/plain": [
       "'Try again'"
      ]
     },
     "execution_count": 25,
     "metadata": {},
     "output_type": "execute_result"
    }
   ],
   "source": [
    "num = 2\n",
    "\"\"\"\n",
    "Which of the following should NOT be used as a variable name in Python?\n",
    "\n",
    "A. number_of_users\n",
    "B. is_active\n",
    "C. salary2024\n",
    "D. def\n",
    "\"\"\"\n",
    "answer = \"\"\n",
    "\n",
    "checker_ans(answer, num, score)"
   ]
  },
  {
   "cell_type": "markdown",
   "id": "eafccf77",
   "metadata": {},
   "source": [
    "##### Question 3"
   ]
  },
  {
   "cell_type": "code",
   "execution_count": 26,
   "id": "65f2744e",
   "metadata": {},
   "outputs": [
    {
     "data": {
      "text/plain": [
       "'Try again'"
      ]
     },
     "execution_count": 26,
     "metadata": {},
     "output_type": "execute_result"
    }
   ],
   "source": [
    "num = 3\n",
    "\"\"\"\n",
    "What is the best way to name a variable that stores the number of students?\n",
    "\n",
    "A. 1students\n",
    "B. num_students\n",
    "C. numStudents\n",
    "D. students#count\n",
    "\"\"\"\n",
    "\n",
    "answer = \"\"\n",
    "\n",
    "checker_ans(answer, num, score)"
   ]
  },
  {
   "cell_type": "markdown",
   "id": "831b6579",
   "metadata": {},
   "source": [
    "##### Question 4"
   ]
  },
  {
   "cell_type": "code",
   "execution_count": 27,
   "id": "9114f720",
   "metadata": {},
   "outputs": [
    {
     "data": {
      "text/plain": [
       "'Try again'"
      ]
     },
     "execution_count": 27,
     "metadata": {},
     "output_type": "execute_result"
    }
   ],
   "source": [
    "num = 4\n",
    "\"\"\"\n",
    "What is the correct variable name for `1st_name`?\n",
    "\n",
    "A. first_name\n",
    "B. name_1st\n",
    "C. oneName\n",
    "D. 1st_name\n",
    "\"\"\"\n",
    "\n",
    "answer = \"\"\n",
    "\n",
    "checker_ans(answer, num, score)"
   ]
  },
  {
   "cell_type": "markdown",
   "id": "3da21e67",
   "metadata": {},
   "source": [
    "##### Question 5"
   ]
  },
  {
   "cell_type": "code",
   "execution_count": 28,
   "id": "eef1b49a",
   "metadata": {},
   "outputs": [
    {
     "data": {
      "text/plain": [
       "'Try again'"
      ]
     },
     "execution_count": 28,
     "metadata": {},
     "output_type": "execute_result"
    }
   ],
   "source": [
    "num = 5\n",
    "\"\"\"\n",
    "Which of the following will cause an error?\n",
    "\n",
    "A. is_valid = True\n",
    "B. first_name = \"Bob\"\n",
    "C. class = \"Math\"\n",
    "D. age_30 = 30\n",
    "\"\"\"\n",
    "\n",
    "answer = \"\"\n",
    "\n",
    "checker_ans(answer, num, score)"
   ]
  },
  {
   "cell_type": "markdown",
   "id": "919aea72",
   "metadata": {},
   "source": [
    "##### Question 6"
   ]
  },
  {
   "cell_type": "code",
   "execution_count": 29,
   "id": "cd2f979e",
   "metadata": {},
   "outputs": [
    {
     "data": {
      "text/plain": [
       "'Try again'"
      ]
     },
     "execution_count": 29,
     "metadata": {},
     "output_type": "execute_result"
    }
   ],
   "source": [
    "num = 6\n",
    "\"\"\"\n",
    "Is the variable name `user_age` valid in Python?\n",
    "\"\"\"\n",
    "\n",
    "answer = None\n",
    "\n",
    "checker_ans(answer, num, score)"
   ]
  },
  {
   "cell_type": "markdown",
   "id": "8cc114c4",
   "metadata": {},
   "source": [
    "##### Question 7"
   ]
  },
  {
   "cell_type": "code",
   "execution_count": 30,
   "id": "fde69811",
   "metadata": {},
   "outputs": [
    {
     "data": {
      "text/plain": [
       "'Try again'"
      ]
     },
     "execution_count": 30,
     "metadata": {},
     "output_type": "execute_result"
    }
   ],
   "source": [
    "num = 7\n",
    "\"\"\"\n",
    "Which of the following variable names follows correct Python naming conventions?\n",
    "\n",
    "A. fullName\n",
    "B. full-name\n",
    "C. FullName\n",
    "D. full_name\n",
    "\"\"\"\n",
    "\n",
    "answer = \"\"\n",
    "\n",
    "checker_ans(answer, num, score)"
   ]
  },
  {
   "cell_type": "markdown",
   "id": "9d86d798",
   "metadata": {},
   "source": [
    "##### Question 8"
   ]
  },
  {
   "cell_type": "code",
   "execution_count": 31,
   "id": "21883a29",
   "metadata": {},
   "outputs": [
    {
     "data": {
      "text/plain": [
       "'Try again'"
      ]
     },
     "execution_count": 31,
     "metadata": {},
     "output_type": "execute_result"
    }
   ],
   "source": [
    "num = 8\n",
    "\"\"\"\n",
    "Which of the following is a valid Python variable name?\n",
    "\n",
    "A. def = \"Alice\"\n",
    "B. user_name = \"Alice\"\n",
    "C. 2name = \"Alice\"\n",
    "D. user-name = \"Alice\"\n",
    "\"\"\"\n",
    "\n",
    "answer = \"\"\n",
    "\n",
    "checker_ans(answer, num, score)"
   ]
  },
  {
   "cell_type": "markdown",
   "id": "fe21500c",
   "metadata": {},
   "source": [
    "### Data Types Exercise"
   ]
  },
  {
   "cell_type": "markdown",
   "id": "1e6e2b27",
   "metadata": {},
   "source": [
    "##### Question 9"
   ]
  },
  {
   "cell_type": "code",
   "execution_count": 32,
   "id": "9a37461c",
   "metadata": {},
   "outputs": [
    {
     "data": {
      "text/plain": [
       "'Try again'"
      ]
     },
     "execution_count": 32,
     "metadata": {},
     "output_type": "execute_result"
    }
   ],
   "source": [
    "num = 9\n",
    "\"\"\"\n",
    "What is the data type of the value 25?\n",
    "\"\"\"\n",
    "\n",
    "answer = None\n",
    "\n",
    "checker_ans(f\"{answer}\", num, score)"
   ]
  },
  {
   "cell_type": "markdown",
   "id": "edfec16e",
   "metadata": {},
   "source": [
    "##### Question 10"
   ]
  },
  {
   "cell_type": "code",
   "execution_count": 33,
   "id": "a2403f5a",
   "metadata": {},
   "outputs": [
    {
     "data": {
      "text/plain": [
       "'Try again'"
      ]
     },
     "execution_count": 33,
     "metadata": {},
     "output_type": "execute_result"
    }
   ],
   "source": [
    "num = 10\n",
    "\"\"\"\n",
    "Give an example of a floating-point number?\n",
    "\"\"\"\n",
    "\n",
    "answer = None\n",
    "\n",
    "checker_ans(f\"{type(answer)}\", num, score)"
   ]
  },
  {
   "cell_type": "markdown",
   "id": "3d75a129",
   "metadata": {},
   "source": [
    "##### Question 11"
   ]
  },
  {
   "cell_type": "code",
   "execution_count": 34,
   "id": "d6070cc0",
   "metadata": {},
   "outputs": [
    {
     "data": {
      "text/plain": [
       "'Try again'"
      ]
     },
     "execution_count": 34,
     "metadata": {},
     "output_type": "execute_result"
    }
   ],
   "source": [
    "num = 11\n",
    "\"\"\"\n",
    "What is the correct data type for storing a list of names?\n",
    "\"\"\"\n",
    "\n",
    "answer = None\n",
    "\n",
    "checker_ans(f\"{answer}\", num, score)"
   ]
  },
  {
   "cell_type": "markdown",
   "id": "1722b399",
   "metadata": {},
   "source": [
    "##### Question 12"
   ]
  },
  {
   "cell_type": "code",
   "execution_count": 35,
   "id": "005c8d36",
   "metadata": {},
   "outputs": [
    {
     "data": {
      "text/plain": [
       "'Try again'"
      ]
     },
     "execution_count": 35,
     "metadata": {},
     "output_type": "execute_result"
    }
   ],
   "source": [
    "num = 12\n",
    "\"\"\"\n",
    "What will type(\"42\") return in Python?\n",
    "\"\"\"\n",
    "\n",
    "answer = None\n",
    "\n",
    "checker_ans(f\"{answer}\", num, score)"
   ]
  },
  {
   "cell_type": "markdown",
   "id": "e5d57ade",
   "metadata": {},
   "source": [
    "##### Question 13"
   ]
  },
  {
   "cell_type": "code",
   "execution_count": 36,
   "id": "73bb6f99",
   "metadata": {},
   "outputs": [
    {
     "data": {
      "text/plain": [
       "'Try again'"
      ]
     },
     "execution_count": 36,
     "metadata": {},
     "output_type": "execute_result"
    }
   ],
   "source": [
    "num = 13\n",
    "\"\"\"\n",
    "Which of these is NOT a valid data type in Python?\n",
    "\n",
    "A. float\n",
    "B. array\n",
    "C. dictionary\n",
    "D. tuple\n",
    "\n",
    "Answer in str\n",
    "\"\"\"\n",
    "\n",
    "answer = \"\"\n",
    "\n",
    "checker_ans(f\"{answer}\", num, score)"
   ]
  },
  {
   "cell_type": "markdown",
   "id": "867dd6ed",
   "metadata": {},
   "source": [
    "##### Question 14"
   ]
  },
  {
   "cell_type": "code",
   "execution_count": 37,
   "id": "160394d2",
   "metadata": {},
   "outputs": [
    {
     "data": {
      "text/plain": [
       "'Try again'"
      ]
     },
     "execution_count": 37,
     "metadata": {},
     "output_type": "execute_result"
    }
   ],
   "source": [
    "num = 14\n",
    "\"\"\"\n",
    "The data type of \"3.14\" in Python is\n",
    "\"\"\"\n",
    "\n",
    "answer = None\n",
    "\n",
    "checker_ans(f\"{answer}\", num, score)"
   ]
  },
  {
   "cell_type": "markdown",
   "id": "e5b3ca6b",
   "metadata": {},
   "source": [
    "##### Question 15"
   ]
  },
  {
   "cell_type": "code",
   "execution_count": 38,
   "id": "0eb1a8a2",
   "metadata": {},
   "outputs": [
    {
     "data": {
      "text/plain": [
       "'Try again'"
      ]
     },
     "execution_count": 38,
     "metadata": {},
     "output_type": "execute_result"
    }
   ],
   "source": [
    "num = 15\n",
    "\"\"\"\n",
    "What is the data type of [1, 2, 3] in Python\n",
    "\"\"\"\n",
    "\n",
    "answer = None\n",
    "\n",
    "checker_ans(f\"{answer}\", num, score)"
   ]
  },
  {
   "cell_type": "markdown",
   "id": "d78f19b1",
   "metadata": {},
   "source": [
    "##### Question 16"
   ]
  },
  {
   "cell_type": "code",
   "execution_count": 39,
   "id": "4c49946c",
   "metadata": {},
   "outputs": [
    {
     "data": {
      "text/plain": [
       "'Try again'"
      ]
     },
     "execution_count": 39,
     "metadata": {},
     "output_type": "execute_result"
    }
   ],
   "source": [
    "num = 16\n",
    "\"\"\"\n",
    "A boolean value in Python can only be True or False.\n",
    "\"\"\"\n",
    "\n",
    "answer = None\n",
    "\n",
    "checker_ans(answer, num, score)"
   ]
  },
  {
   "cell_type": "markdown",
   "id": "d6d513dd",
   "metadata": {},
   "source": [
    "##### Question 17"
   ]
  },
  {
   "cell_type": "code",
   "execution_count": 40,
   "id": "c1dbb3b7",
   "metadata": {},
   "outputs": [
    {
     "name": "stdout",
     "output_type": "stream",
     "text": [
      "❌ Incorrect\n"
     ]
    }
   ],
   "source": [
    "num = 17\n",
    "\n",
    "\"\"\"\n",
    "Write a Python statement that assigns the value 42 to a valid variable name.\n",
    "\"\"\"\n",
    "\n",
    "def answer():\n",
    "    \"Answer here\"\n",
    "    \n",
    "    # Define variable\n",
    "\n",
    "    # Return variable\n",
    "\n",
    "checker_ans(answer, num, score)"
   ]
  },
  {
   "cell_type": "markdown",
   "id": "b031e841",
   "metadata": {},
   "source": [
    "##### Question 18"
   ]
  },
  {
   "cell_type": "code",
   "execution_count": 41,
   "id": "0b18a21b",
   "metadata": {},
   "outputs": [
    {
     "name": "stdout",
     "output_type": "stream",
     "text": [
      "❌ The class must have a method named 'greet'.\n"
     ]
    }
   ],
   "source": [
    "num = 18\n",
    "\n",
    "\"\"\"\n",
    "Write a class named Human. The class should contain a method greet() that return Hello\n",
    "\"\"\"\n",
    "\n",
    "def answer():\n",
    "    \"Answer here\"\n",
    "    \n",
    "    # Define class\n",
    "\n",
    "    # Return class\n",
    "\n",
    "\n",
    "checker_ans(answer, num, score)"
   ]
  },
  {
   "cell_type": "markdown",
   "id": "e047a9c1",
   "metadata": {},
   "source": [
    "##### Question 19"
   ]
  },
  {
   "cell_type": "code",
   "execution_count": 42,
   "id": "443ad34a",
   "metadata": {},
   "outputs": [
    {
     "name": "stdout",
     "output_type": "stream",
     "text": [
      "❌ You must define a function.\n"
     ]
    }
   ],
   "source": [
    "num = 19\n",
    "\n",
    "\"\"\"\n",
    "Write a Python function that returns the string \"Whatt\"\n",
    "\"\"\"\n",
    "\n",
    "def answer():\n",
    "    \"Answer here\"\n",
    "    \n",
    "    # Define function\n",
    "\n",
    "    # Return function\n",
    "\n",
    "\n",
    "checker_ans(answer, num, score)"
   ]
  },
  {
   "cell_type": "markdown",
   "id": "1ff6087a",
   "metadata": {},
   "source": [
    "##### Question 20"
   ]
  },
  {
   "cell_type": "code",
   "execution_count": 43,
   "id": "365bab1e",
   "metadata": {},
   "outputs": [
    {
     "name": "stdout",
     "output_type": "stream",
     "text": [
      "❌ Your answer must be a list.\n"
     ]
    }
   ],
   "source": [
    "num = 20\n",
    "\n",
    "\"\"\"\n",
    "Write a list containing list of sorted numbers from 1-10\n",
    "\"\"\"\n",
    "\n",
    "def answer():\n",
    "    \"Answer here\"\n",
    "    \n",
    "    # Define list\n",
    "\n",
    "    # Return function\n",
    "\n",
    "\n",
    "checker_ans(answer, num, score)"
   ]
  },
  {
   "cell_type": "markdown",
   "id": "bec32df7",
   "metadata": {},
   "source": [
    "### Check Score"
   ]
  },
  {
   "cell_type": "code",
   "execution_count": 22,
   "id": "e0d3dd3e",
   "metadata": {},
   "outputs": [
    {
     "name": "stdout",
     "output_type": "stream",
     "text": [
      "20\n"
     ]
    }
   ],
   "source": [
    "print(check_score(score))"
   ]
  }
 ],
 "metadata": {
  "kernelspec": {
   "display_name": "Python (mlenv)",
   "language": "python",
   "name": "mlenv"
  },
  "language_info": {
   "codemirror_mode": {
    "name": "ipython",
    "version": 3
   },
   "file_extension": ".py",
   "mimetype": "text/x-python",
   "name": "python",
   "nbconvert_exporter": "python",
   "pygments_lexer": "ipython3",
   "version": "3.12.3"
  }
 },
 "nbformat": 4,
 "nbformat_minor": 5
}
