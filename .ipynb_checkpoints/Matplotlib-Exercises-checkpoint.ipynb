{
 "cells": [
  {
   "cell_type": "code",
   "execution_count": 1,
   "id": "56536794-2be2-41bb-a0f8-a2d1d5926097",
   "metadata": {},
   "outputs": [],
   "source": [
    "import numpy as np\n",
    "import pandas as pd\n",
    "import sys\n",
    "import matplotlib.pyplot as plt\n",
    "\n",
    "sys.path.append('./.Scripts') \n",
    "\n",
    "from checker_4 import checker_ans\n",
    "\n",
    "score = {}\n",
    "\n",
    "for i in range(1, 21):\n",
    "    score[f\"{i}\"] = 0\n",
    "\n",
    "def check_score(score):\n",
    "    total_sum = 0\n",
    "    for i in range(1, 21):\n",
    "        total_sum = total_sum + score[f\"{i}\"]\n",
    "    return f\"You Total Score is {total_sum}\""
   ]
  },
  {
   "cell_type": "markdown",
   "id": "da8c62d8-72bb-4458-bd9a-77faf874dfb1",
   "metadata": {},
   "source": [
    "### **Question 1**"
   ]
  },
  {
   "cell_type": "code",
   "execution_count": 2,
   "id": "8b53c441-725a-48f4-b16f-bc5b1b3b7d39",
   "metadata": {},
   "outputs": [
    {
     "data": {
      "text/plain": [
       "'Answer must be a boolean'"
      ]
     },
     "execution_count": 2,
     "metadata": {},
     "output_type": "execute_result"
    }
   ],
   "source": [
    "num = 1\n",
    "\n",
    "\"\"\"\n",
    "True or False: plt.plot() can only be used for bar cha.?\n",
    "\"\"\"\n",
    "\n",
    "answer = None\n",
    "\n",
    "checker_ans(answer, num, score)"
   ]
  },
  {
   "cell_type": "markdown",
   "id": "e2b94bca-4786-409f-b9b8-e7b765e62f80",
   "metadata": {},
   "source": [
    "### **Question 2**"
   ]
  },
  {
   "cell_type": "code",
   "execution_count": 3,
   "id": "3dfa4f44-6b82-403d-9bc1-826dad9bc536",
   "metadata": {},
   "outputs": [
    {
     "data": {
      "text/plain": [
       "'Answer must be a boolean'"
      ]
     },
     "execution_count": 3,
     "metadata": {},
     "output_type": "execute_result"
    }
   ],
   "source": [
    "num = 2\n",
    "\"\"\"\n",
    "True or False: Matplotlib can only plot 2D graphs.\n",
    "\"\"\"\n",
    "\n",
    "answer = None\n",
    "\n",
    "checker_ans(answer, num, score)"
   ]
  },
  {
   "cell_type": "markdown",
   "id": "daaa3c83-4295-4672-b1cd-48f410d54187",
   "metadata": {},
   "source": [
    "### **Question 3**"
   ]
  },
  {
   "cell_type": "code",
   "execution_count": 4,
   "id": "2d87c5e0-b906-439d-837b-dc09e4f1f9ee",
   "metadata": {},
   "outputs": [
    {
     "data": {
      "text/plain": [
       "'Answer must be a boolean'"
      ]
     },
     "execution_count": 4,
     "metadata": {},
     "output_type": "execute_result"
    }
   ],
   "source": [
    "num = 3\n",
    "\"\"\"\n",
    "True or False: Multiple lines can be plotted using a single plt.plot() call.\n",
    "\"\"\"\n",
    "\n",
    "answer = None\n",
    "\n",
    "checker_ans(answer, num, score)"
   ]
  },
  {
   "cell_type": "markdown",
   "id": "85907df1-6662-4c71-9cc8-11b27f374436",
   "metadata": {},
   "source": [
    "### **Question 4**"
   ]
  },
  {
   "cell_type": "code",
   "execution_count": 5,
   "id": "dd163a51-4d3f-4498-9fa7-f4ff568e0bb9",
   "metadata": {},
   "outputs": [
    {
     "data": {
      "text/plain": [
       "'Wrong, Try again'"
      ]
     },
     "execution_count": 5,
     "metadata": {},
     "output_type": "execute_result"
    }
   ],
   "source": [
    "num = 4\n",
    "\n",
    "\"\"\"\n",
    "What does the plt.plot() function do?\n",
    "\n",
    "A. Plots scatter data\n",
    "B. Draws a line chart\n",
    "C. Displays a bar chart\n",
    "D. Opens a new window, then plots the data\n",
    "\n",
    "\"\"\"\n",
    "answer = \"\"\n",
    "\n",
    "checker_ans(answer, num, score)"
   ]
  },
  {
   "cell_type": "markdown",
   "id": "fbdd3126-ea1e-45ab-abb5-0680b192e7e8",
   "metadata": {},
   "source": [
    "### **Question 5**"
   ]
  },
  {
   "cell_type": "code",
   "execution_count": 6,
   "id": "53a12a1b-7bed-42e5-9800-f148308274cf",
   "metadata": {},
   "outputs": [
    {
     "data": {
      "text/plain": [
       "'Wrong, Try again'"
      ]
     },
     "execution_count": 6,
     "metadata": {},
     "output_type": "execute_result"
    }
   ],
   "source": [
    "num = 5\n",
    "\n",
    "\"\"\"\n",
    "What will plt.grid(True) do?\n",
    "\n",
    "A. Show gridlines on the plot\n",
    "B. Make the plot 3D\n",
    "C. Export the plot with gridlines\n",
    "D. Increase the range of axes to add gridlines\n",
    "\n",
    "\"\"\"\n",
    "\n",
    "answer = \"\"\n",
    "\n",
    "checker_ans(answer, num, score)"
   ]
  },
  {
   "cell_type": "markdown",
   "id": "4e4a41b1-a378-4e2a-8ddd-b942d8be42c8",
   "metadata": {},
   "source": [
    "### **Question 6**"
   ]
  },
  {
   "cell_type": "code",
   "execution_count": 7,
   "id": "afa92ca7-1710-453d-9cf0-0d855c71f01a",
   "metadata": {},
   "outputs": [
    {
     "data": {
      "text/plain": [
       "'Wrong, Try again'"
      ]
     },
     "execution_count": 7,
     "metadata": {},
     "output_type": "execute_result"
    }
   ],
   "source": [
    "num = 6\n",
    "\"\"\"\n",
    "What does the alpha parameter in plotting control?\n",
    "\n",
    "A. Color brightness\n",
    "B. Font color\n",
    "C. Transparency\n",
    "D. Line width\n",
    "\n",
    "\"\"\"\n",
    "answer = \"\"\n",
    "\n",
    "checker_ans(answer, num, score)"
   ]
  },
  {
   "cell_type": "markdown",
   "id": "e6fcf476-3c5c-4cbd-9e12-e094ee145d1d",
   "metadata": {},
   "source": [
    "### **Question 7**"
   ]
  },
  {
   "cell_type": "code",
   "execution_count": 8,
   "id": "1c5fcaef-81da-4873-9afb-05e9e3271d50",
   "metadata": {},
   "outputs": [
    {
     "data": {
      "text/plain": [
       "'Wrong, Try again'"
      ]
     },
     "execution_count": 8,
     "metadata": {},
     "output_type": "execute_result"
    }
   ],
   "source": [
    "num = 7\n",
    "\"\"\"\n",
    "What does plt.legend do?\n",
    "\n",
    "A. Adds a caption\n",
    "B. Adds legend to the plot\n",
    "C. Sets legend to the axis\n",
    "D. Plots data points\n",
    "\n",
    "\"\"\"\n",
    "answer = \"\"\n",
    "\n",
    "checker_ans(answer, num, score)"
   ]
  },
  {
   "cell_type": "markdown",
   "id": "035afc82-b7fb-4271-b9a8-bf6ef09c6555",
   "metadata": {},
   "source": [
    "### **Question 8**"
   ]
  },
  {
   "cell_type": "code",
   "execution_count": 9,
   "id": "de8dbf26-d919-462a-ba1b-b0696e3808bb",
   "metadata": {},
   "outputs": [
    {
     "data": {
      "text/plain": [
       "'Wrong, Try again'"
      ]
     },
     "execution_count": 9,
     "metadata": {},
     "output_type": "execute_result"
    }
   ],
   "source": [
    "num = 8\n",
    "\"\"\"\n",
    "Which method is used for saving a figure?\n",
    "\n",
    "A. plt.save()\n",
    "B. plt.download()\n",
    "C. plt.savefig()\n",
    "D. plt.install()\n",
    "\n",
    "\"\"\"\n",
    "answer = \"\"\n",
    "\n",
    "checker_ans(answer, num, score)"
   ]
  },
  {
   "cell_type": "markdown",
   "id": "82c0b419-49d6-4853-bc33-bab69055fb86",
   "metadata": {},
   "source": [
    "### **Question 9**"
   ]
  },
  {
   "cell_type": "code",
   "execution_count": 10,
   "id": "a3ba8045-a93d-4848-8dce-9285fc5d617c",
   "metadata": {},
   "outputs": [
    {
     "data": {
      "text/plain": [
       "'Wrong, Try again'"
      ]
     },
     "execution_count": 10,
     "metadata": {},
     "output_type": "execute_result"
    }
   ],
   "source": [
    "num = 9\n",
    "\"\"\"\n",
    "Which function is used to plot histograms?\n",
    "\n",
    "A. plt.histogram()\n",
    "B. plt.hist()\n",
    "C. plt.bins()\n",
    "D. plt.chart()\n",
    "\n",
    "\"\"\"\n",
    "answer = \"\"\n",
    "\n",
    "checker_ans(answer, num, score)"
   ]
  },
  {
   "cell_type": "markdown",
   "id": "d60d0565-94a4-4991-8276-8e8b8d09f5bc",
   "metadata": {},
   "source": [
    "### **Question 10**"
   ]
  },
  {
   "cell_type": "code",
   "execution_count": 11,
   "id": "68714687-b752-456b-9a8c-23e29b460056",
   "metadata": {},
   "outputs": [
    {
     "data": {
      "text/plain": [
       "'Wrong, Try again'"
      ]
     },
     "execution_count": 11,
     "metadata": {},
     "output_type": "execute_result"
    }
   ],
   "source": [
    "num = 10\n",
    "\"\"\"\n",
    "Which changes the thickness of the line of the plot?\n",
    "\n",
    "A. linestyle\n",
    "B. linewidth\n",
    "C. bold\n",
    "D. thickness\n",
    "\n",
    "\"\"\"\n",
    "answer = \"\"\n",
    "\n",
    "checker_ans(answer, num, score)"
   ]
  },
  {
   "cell_type": "markdown",
   "id": "c16534d3-6975-4b8c-8dd1-f4a3649f33bd",
   "metadata": {},
   "source": [
    "### **Question 11**"
   ]
  },
  {
   "cell_type": "code",
   "execution_count": 12,
   "id": "db8fecc7-f4c0-41f8-9849-f73b40171cef",
   "metadata": {},
   "outputs": [
    {
     "data": {
      "text/plain": [
       "'No scatter plot found'"
      ]
     },
     "execution_count": 12,
     "metadata": {},
     "output_type": "execute_result"
    },
    {
     "data": {
      "image/png": "[encoded data removed]",
      "text/plain": [
       "<Figure size 640x480 with 1 Axes>"
      ]
     },
     "metadata": {},
     "output_type": "display_data"
    }
   ],
   "source": [
    "num = 11\n",
    "\"\"\"\n",
    "Create a scatter plot with x = [1, 2, 3] and y = [4, 5, 6].\n",
    "\"\"\"\n",
    "\n",
    "def answer():\n",
    "    \"Answer here (return nothing just plot). Do not plt.show()\"\n",
    "\n",
    "    \n",
    "checker_ans(answer, num, score)"
   ]
  },
  {
   "cell_type": "markdown",
   "id": "2eceae35-a0db-4595-8c99-982965db20ef",
   "metadata": {},
   "source": [
    "### **Question 12**"
   ]
  },
  {
   "cell_type": "code",
   "execution_count": 13,
   "id": "6cc6a41c-567f-429c-b171-b58bbaf478af",
   "metadata": {},
   "outputs": [
    {
     "data": {
      "text/plain": [
       "\"Title must be 'Sine wave.', but got ''\""
      ]
     },
     "execution_count": 13,
     "metadata": {},
     "output_type": "execute_result"
    },
    {
     "data": {
      "image/png": "[encoded data removed]",
      "text/plain": [
       "<Figure size 640x480 with 1 Axes>"
      ]
     },
     "metadata": {},
     "output_type": "display_data"
    }
   ],
   "source": [
    "num = 12\n",
    "\"\"\"\n",
    "Plot a simple sine wave (sin(x)) with the title “Sine wave”\n",
    "\"\"\"\n",
    "\n",
    "def answer():\n",
    "    \"Answer here (return nothing just plot). Do not plt.show()\"\n",
    "\n",
    "checker_ans(answer, num, score)"
   ]
  },
  {
   "cell_type": "markdown",
   "id": "64a59726-324d-4064-aee5-7c307ecafa53",
   "metadata": {},
   "source": [
    "### **Question 13**"
   ]
  },
  {
   "cell_type": "code",
   "execution_count": 14,
   "id": "ec9100b4-f2e9-4d49-98cc-7d7b5bd378e4",
   "metadata": {},
   "outputs": [
    {
     "data": {
      "text/plain": [
       "'No line found in the plot'"
      ]
     },
     "execution_count": 14,
     "metadata": {},
     "output_type": "execute_result"
    },
    {
     "data": {
      "image/png": "[encoded data removed]",
      "text/plain": [
       "<Figure size 640x480 with 1 Axes>"
      ]
     },
     "metadata": {},
     "output_type": "display_data"
    }
   ],
   "source": [
    "num = 13\n",
    "\"\"\"\n",
    "Plot a line, then change the color of the plot to red and increase its width to 3.\n",
    "\"\"\"\n",
    "\n",
    "def answer():\n",
    "    \"Answer here (return nothing just plot). Do not plt.show()\"\n",
    "\n",
    "    \n",
    "\n",
    "checker_ans(answer, num, score)"
   ]
  },
  {
   "cell_type": "markdown",
   "id": "f5f528f3-d51f-4000-bf9a-2f6cbdeb5097",
   "metadata": {},
   "source": [
    "### **Question 14**"
   ]
  },
  {
   "cell_type": "code",
   "execution_count": 15,
   "id": "7ff4e085-9459-465e-9f0a-30030f40f0ba",
   "metadata": {},
   "outputs": [
    {
     "data": {
      "text/plain": [
       "'Expected 3 bars, but got a different number'"
      ]
     },
     "execution_count": 15,
     "metadata": {},
     "output_type": "execute_result"
    },
    {
     "data": {
      "image/png": "[encoded data removed]",
      "text/plain": [
       "<Figure size 640x480 with 1 Axes>"
      ]
     },
     "metadata": {},
     "output_type": "display_data"
    }
   ],
   "source": [
    "num = 14\n",
    "\"\"\"\n",
    "Plot a bar chart for student scores: names = [Puffy, Jelly, Judy], scores = [91, 85, 79].\n",
    "\"\"\"\n",
    "\n",
    "def answer():\n",
    "    \"Answer here (return nothing just plot). Do not plt.show()\"\n",
    "\n",
    "\n",
    "checker_ans(answer, num, score)"
   ]
  },
  {
   "cell_type": "markdown",
   "id": "0ac0477b-aba6-4281-a3b2-dde0bddcb9d0",
   "metadata": {},
   "source": [
    "### **Question 15**"
   ]
  },
  {
   "cell_type": "code",
   "execution_count": 16,
   "id": "d2381fc3-f7a9-4877-a0ca-cef628a497a1",
   "metadata": {},
   "outputs": [
    {
     "data": {
      "text/plain": [
       "'plt.savefig was not called'"
      ]
     },
     "execution_count": 16,
     "metadata": {},
     "output_type": "execute_result"
    },
    {
     "data": {
      "text/plain": [
       "<Figure size 640x480 with 0 Axes>"
      ]
     },
     "metadata": {},
     "output_type": "display_data"
    }
   ],
   "source": [
    "num = 15\n",
    "\"\"\"\n",
    "Write a code to save a plot as png with a file name “output.”\n",
    "\"\"\"\n",
    "\n",
    "def answer():\n",
    "    \"Answer here (return nothing just plot). Do not plt.show()\"\n",
    "\n",
    "checker_ans(answer, num, score)"
   ]
  },
  {
   "cell_type": "markdown",
   "id": "68637577-056a-44b7-b087-32bd044ff825",
   "metadata": {},
   "source": [
    "### **Question 16**"
   ]
  },
  {
   "cell_type": "code",
   "execution_count": 17,
   "id": "e49fe64a-3f96-42d5-a03b-d661a7dd3b22",
   "metadata": {},
   "outputs": [
    {
     "data": {
      "image/png": "[encoded data removed]",
      "text/plain": [
       "<Figure size 640x480 with 1 Axes>"
      ]
     },
     "metadata": {},
     "output_type": "display_data"
    },
    {
     "data": {
      "text/plain": [
       "'The title is wrong'"
      ]
     },
     "execution_count": 17,
     "metadata": {},
     "output_type": "execute_result"
    }
   ],
   "source": [
    "num = 16\n",
    "\"\"\"\n",
    "Fix the code.\n",
    "\"\"\"\n",
    "\n",
    "def answer():\n",
    "    plt.plot([1, 2, 3], [4, 5, 6])\n",
    "    plt.title = \"Line Graph\"\n",
    "    plt.show()\n",
    "    \n",
    "checker_ans(answer, num, score)"
   ]
  },
  {
   "cell_type": "markdown",
   "id": "3225b0d6-5aa4-4bcb-a8ce-7b540d0c66ef",
   "metadata": {},
   "source": [
    "### **Question 17**"
   ]
  },
  {
   "cell_type": "code",
   "execution_count": 18,
   "id": "3b34fca3-b1f7-48ae-b55b-65c630c4b3c8",
   "metadata": {},
   "outputs": [
    {
     "data": {
      "text/plain": [
       "'Error while running your code: x and y must have same first dimension, but have shapes (3,) and (2,)'"
      ]
     },
     "execution_count": 18,
     "metadata": {},
     "output_type": "execute_result"
    },
    {
     "data": {
      "image/png": "[encoded data removed]",
      "text/plain": [
       "<Figure size 640x480 with 1 Axes>"
      ]
     },
     "metadata": {},
     "output_type": "display_data"
    }
   ],
   "source": [
    "num = 17\n",
    "\"\"\"\n",
    "Fix the code\n",
    "\"\"\"\n",
    "\n",
    "def answer():\n",
    "    plt.plot([1, 2, 3], [4, 5])\n",
    "    plt.show()\n",
    "\n",
    "\n",
    "checker_ans(answer, num, score)"
   ]
  },
  {
   "cell_type": "markdown",
   "id": "ade4b13d-053d-4fe4-a16c-388dc01ddda2",
   "metadata": {},
   "source": [
    "### **Question 18**"
   ]
  },
  {
   "cell_type": "code",
   "execution_count": 19,
   "id": "ee8bc448-9ef6-48a8-9f29-e5292ddea6d7",
   "metadata": {},
   "outputs": [
    {
     "data": {
      "text/plain": [
       "\"Error while running your code: 'Figure' object has no attribute 'title'\""
      ]
     },
     "execution_count": 19,
     "metadata": {},
     "output_type": "execute_result"
    },
    {
     "data": {
      "text/plain": [
       "<Figure size 640x480 with 0 Axes>"
      ]
     },
     "metadata": {},
     "output_type": "display_data"
    },
    {
     "data": {
      "text/plain": [
       "<Figure size 640x480 with 0 Axes>"
      ]
     },
     "metadata": {},
     "output_type": "display_data"
    }
   ],
   "source": [
    "num = 18\n",
    "\"\"\"\n",
    "Fix the code\n",
    "\"\"\"\n",
    "\n",
    "def answer():\n",
    "    fig = plt.figure()\n",
    "    fig.title(\"My Figure\")\n",
    "    plt.show()\n",
    "\n",
    "\n",
    "checker_ans(answer, num, score)"
   ]
  },
  {
   "cell_type": "markdown",
   "id": "128ed5ec-0dbc-4a40-a007-a060dc26e636",
   "metadata": {},
   "source": [
    "### **Question 19**"
   ]
  },
  {
   "cell_type": "code",
   "execution_count": 20,
   "id": "630a5129-9e07-4235-a930-4e3f94685742",
   "metadata": {},
   "outputs": [
    {
     "data": {
      "image/png": "[encoded data removed]",
      "text/plain": [
       "<Figure size 640x480 with 1 Axes>"
      ]
     },
     "metadata": {},
     "output_type": "display_data"
    },
    {
     "data": {
      "text/plain": [
       "'The label is wrong'"
      ]
     },
     "execution_count": 20,
     "metadata": {},
     "output_type": "execute_result"
    }
   ],
   "source": [
    "num = 19\n",
    "\"\"\"\n",
    "Fix the Code\n",
    "\"\"\"\n",
    "\n",
    "def answer():\n",
    "    plt.plot([1, 2, 3], [4, 5, 6])\n",
    "    plt.xlabel = \"X-Axis\"\n",
    "    plt.show()\n",
    "\n",
    "\n",
    "\n",
    "checker_ans(answer, num, score)"
   ]
  },
  {
   "cell_type": "markdown",
   "id": "0edbb5c3-204d-44ce-9a0f-46333c8dc435",
   "metadata": {},
   "source": [
    "### **Question 20**"
   ]
  },
  {
   "cell_type": "code",
   "execution_count": 21,
   "id": "a8e595b1-03b3-41ef-9c99-fa2d70363bdb",
   "metadata": {},
   "outputs": [
    {
     "name": "stderr",
     "output_type": "stream",
     "text": [
      "/tmp/ipykernel_43421/3880686546.py:10: UserWarning: No artists with labels found to put in legend.  Note that artists whose label start with an underscore are ignored when legend() is called with no argument.\n",
      "  plt.legend()\n"
     ]
    },
    {
     "data": {
      "image/png": "[encoded data removed]",
      "text/plain": [
       "<Figure size 640x480 with 1 Axes>"
      ]
     },
     "metadata": {},
     "output_type": "display_data"
    },
    {
     "data": {
      "text/plain": [
       "'Correct, proceed to the next num'"
      ]
     },
     "execution_count": 21,
     "metadata": {},
     "output_type": "execute_result"
    }
   ],
   "source": [
    "num = 20\n",
    "\"\"\"\n",
    "Fix the code\n",
    "\"\"\"\n",
    "\n",
    "def answer():\n",
    "    plt.plot([1, 2, 3], [4, 5, 6])\n",
    "    plt.xlabel(\"X Axis\")\n",
    "    plt.ylabel(\"Y Axis\")\n",
    "    plt.legend()\n",
    "    plt.show()\n",
    "\n",
    "\n",
    "checker_ans(answer, num, score)"
   ]
  },
  {
   "cell_type": "markdown",
   "id": "dbea90b5-fdcb-44bc-b522-5e477a6e166f",
   "metadata": {},
   "source": [
    "### **Check Score**"
   ]
  },
  {
   "cell_type": "code",
   "execution_count": 22,
   "id": "e2bd7005-ba20-492b-8b0d-6c8ae90b23a1",
   "metadata": {},
   "outputs": [
    {
     "name": "stdout",
     "output_type": "stream",
     "text": [
      "You Total Score is 1\n"
     ]
    }
   ],
   "source": [
    "print(check_score(score))"
   ]
  }
 ],
 "metadata": {
  "kernelspec": {
   "display_name": "Python (mlenv)",
   "language": "python",
   "name": "mlenv"
  },
  "language_info": {
   "codemirror_mode": {
    "name": "ipython",
    "version": 3
   },
   "file_extension": ".py",
   "mimetype": "text/x-python",
   "name": "python",
   "nbconvert_exporter": "python",
   "pygments_lexer": "ipython3",
   "version": "3.12.3"
  }
 },
 "nbformat": 4,
 "nbformat_minor": 5
}
