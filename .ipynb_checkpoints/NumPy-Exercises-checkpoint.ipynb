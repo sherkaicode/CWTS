{
 "cells": [
  {
   "cell_type": "code",
   "execution_count": 1,
   "id": "56536794-2be2-41bb-a0f8-a2d1d5926097",
   "metadata": {},
   "outputs": [
    {
     "ename": "ModuleNotFoundError",
     "evalue": "No module named 'checker'",
     "output_type": "error",
     "traceback": [
      "\u001b[1;31m---------------------------------------------------------------------------\u001b[0m",
      "\u001b[1;31mModuleNotFoundError\u001b[0m                       Traceback (most recent call last)",
      "Cell \u001b[1;32mIn[1], line 6\u001b[0m\n\u001b[0;32m      3\u001b[0m \u001b[38;5;28;01mimport\u001b[39;00m \u001b[38;5;21;01msys\u001b[39;00m\n\u001b[0;32m      4\u001b[0m sys\u001b[38;5;241m.\u001b[39mpath\u001b[38;5;241m.\u001b[39mappend(\u001b[38;5;124m'\u001b[39m\u001b[38;5;124m./.Scripts\u001b[39m\u001b[38;5;124m'\u001b[39m) \n\u001b[1;32m----> 6\u001b[0m \u001b[38;5;28;01mfrom\u001b[39;00m \u001b[38;5;21;01mchecker\u001b[39;00m \u001b[38;5;28;01mimport\u001b[39;00m checker_ans\n\u001b[0;32m      8\u001b[0m score \u001b[38;5;241m=\u001b[39m {}\n\u001b[0;32m     10\u001b[0m \u001b[38;5;28;01mfor\u001b[39;00m i \u001b[38;5;129;01min\u001b[39;00m \u001b[38;5;28mrange\u001b[39m(\u001b[38;5;241m1\u001b[39m, \u001b[38;5;241m21\u001b[39m):\n",
      "\u001b[1;31mModuleNotFoundError\u001b[0m: No module named 'checker'"
     ]
    }
   ],
   "source": [
    "import numpy as np\n",
    "import pandas as pd\n",
    "import sys\n",
    "sys.path.append('./.Scripts') \n",
    "\n",
    "from checker import checker_ans\n",
    "\n",
    "score = {}\n",
    "\n",
    "for i in range(1, 21):\n",
    "    score[f\"{i}\"] = 0\n",
    "\n",
    "def check_score(score):\n",
    "    total_sum = 0\n",
    "    for i in range(1, 21):\n",
    "        total_sum = total_sum + score[f\"{i}\"]\n",
    "    return f\"You Total Score is {total_sum}\""
   ]
  },
  {
   "cell_type": "markdown",
   "id": "da8c62d8-72bb-4458-bd9a-77faf874dfb1",
   "metadata": {},
   "source": [
    "### **Question 1**"
   ]
  },
  {
   "cell_type": "markdown",
   "id": "331eec88-a38d-4180-840e-6925a5d479db",
   "metadata": {},
   "source": [
    "num = 1\n",
    "\"\"\"\n",
    "True or FalseA NumPy array can contain elements of different data types.\n",
    "n?\n",
    "\"\"\"\n",
    "answer = None\n",
    "\n",
    "checker_ans(answer, num, score)"
   ]
  },
  {
   "cell_type": "markdown",
   "id": "e2b94bca-4786-409f-b9b8-e7b765e62f80",
   "metadata": {},
   "source": [
    "### **Question 2**"
   ]
  },
  {
   "cell_type": "code",
   "execution_count": null,
   "id": "3dfa4f44-6b82-403d-9bc1-826dad9bc536",
   "metadata": {},
   "outputs": [],
   "source": [
    "num = 2\n",
    "\"\"\"\n",
    "True or False: NumPy is faster than Python lists for numerical operations.\n",
    "\"\"\"\n",
    "answer = None\n",
    "\n",
    "checker_ans(answer, num, score)"
   ]
  },
  {
   "cell_type": "markdown",
   "id": "daaa3c83-4295-4672-b1cd-48f410d54187",
   "metadata": {},
   "source": [
    "### **Question 3**"
   ]
  },
  {
   "cell_type": "code",
   "execution_count": 2,
   "id": "2d87c5e0-b906-439d-837b-dc09e4f1f9ee",
   "metadata": {},
   "outputs": [
    {
     "ename": "NameError",
     "evalue": "name 'checker_ans' is not defined",
     "output_type": "error",
     "traceback": [
      "\u001b[1;31m---------------------------------------------------------------------------\u001b[0m",
      "\u001b[1;31mNameError\u001b[0m                                 Traceback (most recent call last)",
      "Cell \u001b[1;32mIn[2], line 7\u001b[0m\n\u001b[0;32m      2\u001b[0m \u001b[38;5;124;03m\"\"\"\u001b[39;00m\n\u001b[0;32m      3\u001b[0m \u001b[38;5;124;03mTrue or False: np.arange can produce floating point values..\u001b[39;00m\n\u001b[0;32m      4\u001b[0m \u001b[38;5;124;03m\"\"\"\u001b[39;00m\n\u001b[0;32m      5\u001b[0m answer \u001b[38;5;241m=\u001b[39m \u001b[38;5;28;01mNone\u001b[39;00m\n\u001b[1;32m----> 7\u001b[0m checker_ans(answer, num, score)\n",
      "\u001b[1;31mNameError\u001b[0m: name 'checker_ans' is not defined"
     ]
    }
   ],
   "source": [
    "num = 3\n",
    "\"\"\"\n",
    "True or False: np.arange can produce floating point values..\n",
    "\"\"\"\n",
    "answer = None\n",
    "\n",
    "checker_ans(answer, num, score)"
   ]
  },
  {
   "cell_type": "markdown",
   "id": "85907df1-6662-4c71-9cc8-11b27f374436",
   "metadata": {},
   "source": [
    "### **Question 4**"
   ]
  },
  {
   "cell_type": "code",
   "execution_count": null,
   "id": "dd163a51-4d3f-4498-9fa7-f4ff568e0bb9",
   "metadata": {},
   "outputs": [],
   "source": [
    "num = 4\n",
    "\n",
    "\"\"\"\n",
    "Create a 5x5 array of random values from 0-20, with step size of 5.\n",
    "\"\"\"\n",
    "\n",
    "answer = \"\"\n",
    "\n",
    "checker_ans(answer, num, score)"
   ]
  },
  {
   "cell_type": "markdown",
   "id": "fbdd3126-ea1e-45ab-abb5-0680b192e7e8",
   "metadata": {},
   "source": [
    "### **Question 5**"
   ]
  },
  {
   "cell_type": "code",
   "execution_count": null,
   "id": "53a12a1b-7bed-42e5-9800-f148308274cf",
   "metadata": {},
   "outputs": [],
   "source": [
    "num = 6\n",
    "\n",
    "\"\"\"\n",
    "What will be the output of the code below:\n",
    "\t\ta = np.array([10, 20, 30, 40])\n",
    "        b = a[[1, 3]]\n",
    "        print(b)\n",
    "\"\"\"\n",
    "\n",
    "answer = \"\"\n",
    "\n",
    "checker_ans(answer, num, score)"
   ]
  },
  {
   "cell_type": "markdown",
   "id": "4e4a41b1-a378-4e2a-8ddd-b942d8be42c8",
   "metadata": {},
   "source": [
    "### **Question 6**"
   ]
  },
  {
   "cell_type": "code",
   "execution_count": null,
   "id": "afa92ca7-1710-453d-9cf0-0d855c71f01a",
   "metadata": {},
   "outputs": [],
   "source": [
    "num = 6\n",
    "\"\"\"\n",
    "What does np.linspace(0,1,5) return?\n",
    "\n",
    "A. [0, 0.2, 0.4, 0.6, 0.8]\n",
    "B. [0, 0.25, 0.5, 0.75, 1]\n",
    "C. [0, 0.5, 1]\n",
    "D. [0, 1, 2, 3, 4, 5]\n",
    "\n",
    "\"\"\"\n",
    "answer = \"\"\n",
    "\n",
    "checker_ans(answer, num, score)"
   ]
  },
  {
   "cell_type": "markdown",
   "id": "e6fcf476-3c5c-4cbd-9e12-e094ee145d1d",
   "metadata": {},
   "source": [
    "### **Question 7**"
   ]
  },
  {
   "cell_type": "code",
   "execution_count": null,
   "id": "1c5fcaef-81da-4873-9afb-05e9e3271d50",
   "metadata": {},
   "outputs": [],
   "source": [
    "num = 7\n",
    "\"\"\"\n",
    "What does np.arange(3,10,2) return?\n",
    "\n",
    "A. [3, 5, 7, 9]\n",
    "B. [3, 4, 5, 6, 7, 8, ,9]\n",
    "C. [3, 6, 9]\n",
    "D. [2, 4, 6, 8]\n",
    "\n",
    "\"\"\"\n",
    "answer = \"\"\n",
    "\n",
    "checker_ans(answer, num, score)"
   ]
  },
  {
   "cell_type": "markdown",
   "id": "035afc82-b7fb-4271-b9a8-bf6ef09c6555",
   "metadata": {},
   "source": [
    "### **Question 8**"
   ]
  },
  {
   "cell_type": "code",
   "execution_count": null,
   "id": "de8dbf26-d919-462a-ba1b-b0696e3808bb",
   "metadata": {},
   "outputs": [],
   "source": [
    "num = 8\n",
    "\"\"\"\n",
    "What does np.array([1,2,3]) do?\n",
    "\n",
    "A. Creates a list\n",
    "B. Creates a 1D array\n",
    "C. Creates a 2D array\n",
    "D. Creates a matrix\n",
    "\n",
    "\"\"\"\n",
    "answer = \"\"\n",
    "\n",
    "checker_ans(answer, num, score)"
   ]
  },
  {
   "cell_type": "markdown",
   "id": "82c0b419-49d6-4853-bc33-bab69055fb86",
   "metadata": {},
   "source": [
    "### **Question 9**"
   ]
  },
  {
   "cell_type": "code",
   "execution_count": null,
   "id": "a3ba8045-a93d-4848-8dce-9285fc5d617c",
   "metadata": {},
   "outputs": [],
   "source": [
    "num = 9\n",
    "\"\"\"\n",
    "What function creates an array of evenly spaced values between 0 and 1 (inclusive)?\n",
    "\n",
    "A. np.arange(0, 1, 0.1)\n",
    "B. np.linspace(0, 1, 10)\n",
    "C. np.zeros(10)\n",
    "D. np.arange(0, 1, 1)\n",
    "\n",
    "\"\"\"\n",
    "answer = \"\"\n",
    "\n",
    "checker_ans(answer, num, score)"
   ]
  },
  {
   "cell_type": "markdown",
   "id": "d60d0565-94a4-4991-8276-8e8b8d09f5bc",
   "metadata": {},
   "source": [
    "### **Question 10**"
   ]
  },
  {
   "cell_type": "code",
   "execution_count": null,
   "id": "68714687-b752-456b-9a8c-23e29b460056",
   "metadata": {},
   "outputs": [],
   "source": [
    "num = 10\n",
    "\"\"\"\n",
    "What does np.ones((2,3)) return?\n",
    "\n",
    "A. An array of 2 elements, with all values are equal to 3\n",
    "B. A 2x3 array filled with ones\n",
    "C. A 3x2 array filled with ones\n",
    "D. An identity matrix\n",
    "\n",
    "\"\"\"\n",
    "answer = \"\"\n",
    "\n",
    "checker_ans(answer, num, score)"
   ]
  },
  {
   "cell_type": "markdown",
   "id": "c16534d3-6975-4b8c-8dd1-f4a3649f33bd",
   "metadata": {},
   "source": [
    "### **Question 11**"
   ]
  },
  {
   "cell_type": "code",
   "execution_count": null,
   "id": "db8fecc7-f4c0-41f8-9849-f73b40171cef",
   "metadata": {},
   "outputs": [],
   "source": [
    "num = 11\n",
    "\"\"\"\n",
    "What is the result of np.sin(np.pi / 2)?\n",
    "\n",
    "A. 0\n",
    "B. 1\n",
    "C. -1\n",
    "D. pi/2\n",
    "\n",
    "\"\"\"\n",
    "answer = \"\"\n",
    "\n",
    "checker_ans(answer, num, score)"
   ]
  },
  {
   "cell_type": "markdown",
   "id": "2eceae35-a0db-4595-8c99-982965db20ef",
   "metadata": {},
   "source": [
    "### **Question 12**"
   ]
  },
  {
   "cell_type": "code",
   "execution_count": null,
   "id": "6cc6a41c-567f-429c-b171-b58bbaf478af",
   "metadata": {},
   "outputs": [],
   "source": [
    "num = 12\n",
    "\"\"\"\n",
    "What does array[1:4] return?\n",
    "\n",
    "A. Elements from index 1 to 3\n",
    "B. Elements from index 1 to 4\n",
    "C. Element at index 1\n",
    "D. Elements from 0 to 4\n",
    "\n",
    "\"\"\"\n",
    "answer = \"\"\n",
    "\n",
    "checker_ans(answer, num, score)"
   ]
  },
  {
   "cell_type": "markdown",
   "id": "64a59726-324d-4064-aee5-7c307ecafa53",
   "metadata": {},
   "source": [
    "### **Question 13**"
   ]
  },
  {
   "cell_type": "code",
   "execution_count": null,
   "id": "ec9100b4-f2e9-4d49-98cc-7d7b5bd378e4",
   "metadata": {},
   "outputs": [],
   "source": [
    "num = 13\n",
    "\"\"\"\n",
    "np.mean computes the mean of the values. What does np.mean(np.array([1,2,3,4])) return?\n",
    "\n",
    "A. 2\n",
    "B. 2.5\n",
    "C. 3\n",
    "D. 10\n",
    "\n",
    "\"\"\"\n",
    "answer = \"\"\n",
    "\n",
    "checker_ans(answer, num, score)"
   ]
  },
  {
   "cell_type": "markdown",
   "id": "f5f528f3-d51f-4000-bf9a-2f6cbdeb5097",
   "metadata": {},
   "source": [
    "### **Question 14**"
   ]
  },
  {
   "cell_type": "code",
   "execution_count": null,
   "id": "7ff4e085-9459-465e-9f0a-30030f40f0ba",
   "metadata": {},
   "outputs": [],
   "source": [
    "num = 14\n",
    "\"\"\"\n",
    "Compute the sine of 0, pi/2, and pi.\n",
    "\n",
    "\"\"\"\n",
    "\n",
    "import numpy as np\n",
    "\n",
    "def answer():\n",
    "    angles = np.array(\"Answer here\")\n",
    "    sine_values = \"Answer here\"\n",
    "    print(sine_values)  \n",
    "\n",
    "checker_ans(answer, num, score)"
   ]
  },
  {
   "cell_type": "markdown",
   "id": "0ac0477b-aba6-4281-a3b2-dde0bddcb9d0",
   "metadata": {},
   "source": [
    "### **Question 15**"
   ]
  },
  {
   "cell_type": "code",
   "execution_count": null,
   "id": "d2381fc3-f7a9-4877-a0ca-cef628a497a1",
   "metadata": {},
   "outputs": [],
   "source": [
    "num = 15\n",
    "\"\"\"\n",
    "Compute the exponential of values from -2 to 2.\n",
    "\n",
    "\"\"\"\n",
    "\n",
    "import numpy as np\n",
    "\n",
    "def answer():\n",
    "    x = np.linspace(\"Answer here\")\n",
    "    exp_values = \"Answer here\"\n",
    "    print(exp_values)\n",
    "\n",
    "checker_ans(answer, num, score)"
   ]
  },
  {
   "cell_type": "markdown",
   "id": "68637577-056a-44b7-b087-32bd044ff825",
   "metadata": {},
   "source": [
    "### **Question 16**"
   ]
  },
  {
   "cell_type": "code",
   "execution_count": null,
   "id": "e49fe64a-3f96-42d5-a03b-d661a7dd3b22",
   "metadata": {},
   "outputs": [],
   "source": [
    "num = 16\n",
    "\"\"\"\n",
    "Check if the values 1, pi, 4, and 2pi is greater than pi\n",
    "\n",
    "\"\"\"\n",
    "\n",
    "import numpy as np\n",
    "\n",
    "def answer():\n",
    "    arr = \"Answer here\"\n",
    "    for val in arr:\n",
    "        if val > \"Answer here\":\n",
    "            print(f\"{val:.2f} is greater than π\")\n",
    "        else:\n",
    "            print(f\"{val:.2f} is not greater than π\")\n",
    "\n",
    "checker_ans(answer, num, score)"
   ]
  },
  {
   "cell_type": "markdown",
   "id": "3225b0d6-5aa4-4bcb-a8ce-7b540d0c66ef",
   "metadata": {},
   "source": [
    "### **Question 17**"
   ]
  },
  {
   "cell_type": "code",
   "execution_count": null,
   "id": "3b34fca3-b1f7-48ae-b55b-65c630c4b3c8",
   "metadata": {},
   "outputs": [],
   "source": [
    "num = 17\n",
    "\"\"\"\n",
    "Yes or No. Will this code work? Note: np.dot is a dot product.\n",
    "\n",
    "import numpy as np\n",
    "\n",
    "a = np.array([1, 2])\n",
    "b = np.array([[1, 2], [3, 4]])\n",
    "result = np.dot(a, b)\n",
    "print(result)\n",
    "\n",
    "\"\"\"\n",
    "\n",
    "answer = \"\"\n",
    "\n",
    "checker_ans(answer, num, score)"
   ]
  },
  {
   "cell_type": "markdown",
   "id": "ade4b13d-053d-4fe4-a16c-388dc01ddda2",
   "metadata": {},
   "source": [
    "### **Question 18**"
   ]
  },
  {
   "cell_type": "code",
   "execution_count": null,
   "id": "ee8bc448-9ef6-48a8-9f29-e5292ddea6d7",
   "metadata": {},
   "outputs": [],
   "source": [
    "num = 18\n",
    "\"\"\"\n",
    "Find all indices of value 5 using np.where.\n",
    "\n",
    "\"\"\"\n",
    "\n",
    "import numpy as np\n",
    "\n",
    "def answer():\n",
    "    arr = np.array([1, 5, 3, 5, 2])\n",
    "    indices = \"Answer here\"\n",
    "    print(indices) \n",
    "\n",
    "checker_ans(answer, num, score)"
   ]
  },
  {
   "cell_type": "markdown",
   "id": "128ed5ec-0dbc-4a40-a007-a060dc26e636",
   "metadata": {},
   "source": [
    "### **Question 19**"
   ]
  },
  {
   "cell_type": "code",
   "execution_count": null,
   "id": "630a5129-9e07-4235-a930-4e3f94685742",
   "metadata": {},
   "outputs": [],
   "source": [
    "num = 19\n",
    "\"\"\"\n",
    "Fill diagonal with 9s using np.fill_diagonal.\n",
    "\n",
    "\"\"\"\n",
    "\n",
    "import numpy as np\n",
    "\n",
    "def answer():\n",
    "    a = np.zeros((5, 5), dtype=int)\n",
    "    \"Answer here\"\n",
    "    print(a)\n",
    "\n",
    "checker_ans(answer, num, score)"
   ]
  },
  {
   "cell_type": "markdown",
   "id": "0edbb5c3-204d-44ce-9a0f-46333c8dc435",
   "metadata": {},
   "source": [
    "### **Question 20**"
   ]
  },
  {
   "cell_type": "code",
   "execution_count": null,
   "id": "a8e595b1-03b3-41ef-9c99-fa2d70363bdb",
   "metadata": {},
   "outputs": [],
   "source": [
    "num = 20\n",
    "\"\"\"\n",
    "Add any two arrays only if they are the same shape.\n",
    "\n",
    "\"\"\"\n",
    "\n",
    "import numpy as np\n",
    "\n",
    "def answer():\n",
    "    a = \"Answer here\"\n",
    "    b = \"Answer here\"\n",
    "    if a.shape == b.shape:\n",
    "        result = a + b\n",
    "        print(result)\n",
    "    else:\n",
    "        print(\"Arrays must have the same shape.\")\n",
    "\n",
    "\n",
    "checker_ans(answer, num, score)"
   ]
  },
  {
   "cell_type": "markdown",
   "id": "dbea90b5-fdcb-44bc-b522-5e477a6e166f",
   "metadata": {},
   "source": [
    "### **Check Score**"
   ]
  },
  {
   "cell_type": "code",
   "execution_count": null,
   "id": "e2bd7005-ba20-492b-8b0d-6c8ae90b23a1",
   "metadata": {},
   "outputs": [],
   "source": [
    "print(check_score(score))"
   ]
  }
 ],
 "metadata": {
  "kernelspec": {
   "display_name": "Python 3 (ipykernel)",
   "language": "python",
   "name": "python3"
  },
  "language_info": {
   "codemirror_mode": {
    "name": "ipython",
    "version": 3
   },
   "file_extension": ".py",
   "mimetype": "text/x-python",
   "name": "python",
   "nbconvert_exporter": "python",
   "pygments_lexer": "ipython3",
   "version": "3.12.3"
  }
 },
 "nbformat": 4,
 "nbformat_minor": 5
}
