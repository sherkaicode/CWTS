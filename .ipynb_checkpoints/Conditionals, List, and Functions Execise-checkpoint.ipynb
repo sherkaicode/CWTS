{
 "cells": [
  {
   "cell_type": "markdown",
   "id": "46845a33",
   "metadata": {},
   "source": [
    "# Conditionals, List, and Functions Exercise"
   ]
  },
  {
   "cell_type": "code",
   "execution_count": null,
   "id": "1ce6f192",
   "metadata": {},
   "outputs": [],
   "source": [
    "import numpy as np\n",
    "import pandas as pd\n",
    "from checker import checker_ans\n",
    "\n",
    "score = {}\n",
    "\n",
    "for i in range(1, 21):\n",
    "    score[f\"{i}\"] = 0\n",
    "\n",
    "def check_score(score):\n",
    "    total_sum = 0\n",
    "    for i in range(1, 21):\n",
    "        total_sum = total_sum + score[f\"{i}\"]\n",
    "    return f\"You Total Score is {total_sum}\"\n"
   ]
  },
  {
   "cell_type": "markdown",
   "id": "613aef2a",
   "metadata": {},
   "source": [
    "##### Question 1"
   ]
  },
  {
   "cell_type": "code",
   "execution_count": 1,
   "id": "3bcfd1dc",
   "metadata": {},
   "outputs": [
    {
     "name": "stdout",
     "output_type": "stream",
     "text": [
      "No\n"
     ]
    }
   ],
   "source": [
    "\"\"\"\n",
    "What is the value of the result?\n",
    "\n",
    "x = 10\n",
    "y = 5\n",
    "if x > y == True:\n",
    "    result = \"Yes\"\n",
    "else:\n",
    "    result = \"No\"\n",
    "\"\"\"\n",
    "\n",
    "answer = \"\""
   ]
  },
  {
   "cell_type": "markdown",
   "id": "79a9dc24",
   "metadata": {},
   "source": [
    "##### Question 2"
   ]
  },
  {
   "cell_type": "code",
   "execution_count": 1,
   "id": "d1a262de",
   "metadata": {},
   "outputs": [
    {
     "name": "stdout",
     "output_type": "stream",
     "text": [
      "False\n"
     ]
    }
   ],
   "source": [
    "\"\"\"\n",
    "What is the output?\n",
    "\n",
    "if None or 0 or []:\n",
    "    print(\"True\")\n",
    "else:\n",
    "    print(\"False\")\n",
    "\"\"\"\n",
    "\n",
    "answer = \"\""
   ]
  },
  {
   "cell_type": "markdown",
   "id": "656963e8",
   "metadata": {},
   "source": [
    "##### Question 3"
   ]
  },
  {
   "cell_type": "code",
   "execution_count": 2,
   "id": "7e0df2d0",
   "metadata": {},
   "outputs": [],
   "source": [
    "\"\"\"\n",
    "What is the value of z?\n",
    "\n",
    "x = True\n",
    "y = False\n",
    "z = x or y and not x\n",
    "\"\"\"\n",
    "\n",
    "answer = None\n"
   ]
  },
  {
   "cell_type": "markdown",
   "id": "d4343fa7",
   "metadata": {},
   "source": [
    "##### Question 4"
   ]
  },
  {
   "cell_type": "code",
   "execution_count": 3,
   "id": "506f602e",
   "metadata": {},
   "outputs": [
    {
     "name": "stdout",
     "output_type": "stream",
     "text": [
      "False\n"
     ]
    }
   ],
   "source": [
    "\"\"\"\n",
    "What is the output of this conditional statement?\n",
    "\n",
    "print(1 < 2 < 3 == True)\n",
    "\"\"\"\n",
    "\n",
    "answer = None"
   ]
  },
  {
   "cell_type": "markdown",
   "id": "8a611372",
   "metadata": {},
   "source": [
    "##### Question 5"
   ]
  },
  {
   "cell_type": "code",
   "execution_count": 5,
   "id": "46ab8c97",
   "metadata": {},
   "outputs": [
    {
     "name": "stdout",
     "output_type": "stream",
     "text": [
      "True\n"
     ]
    }
   ],
   "source": [
    "\"\"\"\n",
    "What is the output? \n",
    "\n",
    "x = 1\n",
    "y = True\n",
    "print(x == y)\n",
    "\"\"\""
   ]
  },
  {
   "cell_type": "markdown",
   "id": "acce0a0f",
   "metadata": {},
   "source": [
    "##### Question 6"
   ]
  },
  {
   "cell_type": "code",
   "execution_count": 6,
   "id": "b0278c2e",
   "metadata": {},
   "outputs": [
    {
     "name": "stdout",
     "output_type": "stream",
     "text": [
      "False\n"
     ]
    }
   ],
   "source": [
    "\"\"\"\n",
    "What is the output?\n",
    "\n",
    "x = 1\n",
    "y = True\n",
    "print(x is y)\n",
    "\"\"\"\n",
    "\n",
    "answer = None"
   ]
  },
  {
   "cell_type": "markdown",
   "id": "ed06b40d",
   "metadata": {},
   "source": [
    "##### Question 7"
   ]
  },
  {
   "cell_type": "code",
   "execution_count": null,
   "id": "52fa2431",
   "metadata": {},
   "outputs": [],
   "source": [
    "\"\"\"\n",
    "What is the value of this list?\n",
    "\n",
    "[x for x in range(5) if x % 2]\n",
    "\n",
    "\"\"\"\n",
    "\n",
    "answer = []\n"
   ]
  },
  {
   "cell_type": "markdown",
   "id": "6e51630d",
   "metadata": {},
   "source": [
    "##### Question 8"
   ]
  },
  {
   "cell_type": "code",
   "execution_count": null,
   "id": "62b4a3ba",
   "metadata": {},
   "outputs": [],
   "source": [
    "\"\"\"\n",
    "What is the value of this list?\n",
    "\n",
    "[i if i % 2 == 0 else i * 2 for i in range(5)]\n",
    "\"\"\"\n",
    "\n",
    "answer = []"
   ]
  },
  {
   "cell_type": "markdown",
   "id": "6564bb84",
   "metadata": {},
   "source": [
    "##### Question 9"
   ]
  },
  {
   "cell_type": "code",
   "execution_count": null,
   "id": "2c904846",
   "metadata": {},
   "outputs": [],
   "source": [
    "\"\"\"\n",
    "What is the value of the spliced list?\n",
    "\n",
    "l = [1, 2, 3, 4, 5]\n",
    "l[::-1]\n",
    "\"\"\"\n",
    "\n",
    "answer = []"
   ]
  },
  {
   "cell_type": "markdown",
   "id": "b6e1122b",
   "metadata": {},
   "source": [
    "##### Question 10"
   ]
  },
  {
   "cell_type": "code",
   "execution_count": null,
   "id": "b4a79777",
   "metadata": {},
   "outputs": [],
   "source": [
    "\"\"\"\n",
    "What is the value of the list nums?\n",
    "\n",
    "nums = []\n",
    "for i in range(5):\n",
    "    if i == 2:\n",
    "        break\n",
    "    nums.append(i)\n",
    "\"\"\"\n",
    "\n",
    "answer = []"
   ]
  },
  {
   "cell_type": "markdown",
   "id": "1df33454",
   "metadata": {},
   "source": [
    "##### Question 11"
   ]
  },
  {
   "cell_type": "code",
   "execution_count": 28,
   "id": "55c30d5e",
   "metadata": {},
   "outputs": [],
   "source": [
    "\"\"\"\n",
    "What is printed?\n",
    "\n",
    "def foo(a=[]):\n",
    "    a.append(1)\n",
    "    return a\n",
    "\n",
    "print(foo(), end = \" \")\n",
    "print(foo())\n",
    "\n",
    "A. [1] [1]\n",
    "B. [1] [1, 1]\n",
    "C. [1, 1] [1]\n",
    "D. [] []\n",
    "\"\"\"\n",
    "answer = \"\""
   ]
  },
  {
   "cell_type": "markdown",
   "id": "f8718f24",
   "metadata": {},
   "source": [
    "##### Question 12"
   ]
  },
  {
   "cell_type": "code",
   "execution_count": 29,
   "id": "2817c8f9",
   "metadata": {},
   "outputs": [
    {
     "data": {
      "text/plain": [
       "['__add__',\n",
       " '__class__',\n",
       " '__class_getitem__',\n",
       " '__contains__',\n",
       " '__delattr__',\n",
       " '__delitem__',\n",
       " '__dir__',\n",
       " '__doc__',\n",
       " '__eq__',\n",
       " '__format__',\n",
       " '__ge__',\n",
       " '__getattribute__',\n",
       " '__getitem__',\n",
       " '__getstate__',\n",
       " '__gt__',\n",
       " '__hash__',\n",
       " '__iadd__',\n",
       " '__imul__',\n",
       " '__init__',\n",
       " '__init_subclass__',\n",
       " '__iter__',\n",
       " '__le__',\n",
       " '__len__',\n",
       " '__lt__',\n",
       " '__mul__',\n",
       " '__ne__',\n",
       " '__new__',\n",
       " '__reduce__',\n",
       " '__reduce_ex__',\n",
       " '__repr__',\n",
       " '__reversed__',\n",
       " '__rmul__',\n",
       " '__setattr__',\n",
       " '__setitem__',\n",
       " '__sizeof__',\n",
       " '__str__',\n",
       " '__subclasshook__',\n",
       " 'append',\n",
       " 'clear',\n",
       " 'copy',\n",
       " 'count',\n",
       " 'extend',\n",
       " 'index',\n",
       " 'insert',\n",
       " 'pop',\n",
       " 'remove',\n",
       " 'reverse',\n",
       " 'sort']"
      ]
     },
     "execution_count": 29,
     "metadata": {},
     "output_type": "execute_result"
    }
   ],
   "source": [
    "dir(list)"
   ]
  },
  {
   "cell_type": "code",
   "execution_count": 32,
   "id": "9dd0185a",
   "metadata": {},
   "outputs": [],
   "source": [
    "\"\"\"\n",
    "What will be the output?\n",
    "\n",
    "list_nums = [0, 9, 2, 1]\n",
    "list_nums.remove(3)\n",
    "print(list_nums)\n",
    "\n",
    "A. [0, 9, 2]\n",
    "B. [1]\n",
    "C. [0]\n",
    "D. Error\n",
    "\"\"\"\n",
    "\n",
    "answer = \"\"\n"
   ]
  },
  {
   "cell_type": "code",
   "execution_count": 45,
   "id": "850cf05e",
   "metadata": {},
   "outputs": [
    {
     "name": "stdout",
     "output_type": "stream",
     "text": [
      "[0, 9, 2, 1, 111]\n"
     ]
    }
   ],
   "source": [
    "A = [0, 9, 2, 1]\n",
    "A.extend([111])\n",
    "print(A)"
   ]
  },
  {
   "cell_type": "markdown",
   "id": "ef86641a",
   "metadata": {},
   "source": [
    "##### Question 13"
   ]
  },
  {
   "cell_type": "code",
   "execution_count": null,
   "id": "8a23adab",
   "metadata": {},
   "outputs": [],
   "source": [
    "\"\"\"\n",
    "What will be the output?\n",
    "\n",
    "list_nums = [0, 9, 2, 1]\n",
    "list_nums.insert(4, 2)\n",
    "print(list_nums)\n",
    "\n",
    "A. Error\n",
    "B. [0, 4, 9, 2, 1]\n",
    "C. [0, 2, 9, 2, 1]\n",
    "D. [2, 0, 9, 2, 1]\n",
    "\"\"\""
   ]
  },
  {
   "cell_type": "markdown",
   "id": "856d69ee",
   "metadata": {},
   "source": [
    "##### Question 14"
   ]
  },
  {
   "cell_type": "code",
   "execution_count": 66,
   "id": "cac417ef",
   "metadata": {},
   "outputs": [
    {
     "name": "stdout",
     "output_type": "stream",
     "text": [
      "Ha?\n"
     ]
    }
   ],
   "source": [
    "\"\"\"\n",
    "What is the output of this code block?\n",
    "\n",
    "class maker:\n",
    "    def __init__(self):\n",
    "        self.me = \"me\"\n",
    "        \n",
    "        print(self.make())\n",
    "    def make(self):\n",
    "        return \"WHAT\"\n",
    "    \n",
    "    def make(self):\n",
    "        return \"Ha?\"\n",
    "\n",
    "a = maker()\n",
    "\"\"\"\n",
    "\n",
    "answer = \"\""
   ]
  },
  {
   "cell_type": "markdown",
   "id": "10b25a31",
   "metadata": {},
   "source": [
    "##### Question 15"
   ]
  },
  {
   "cell_type": "code",
   "execution_count": null,
   "id": "7ce51582",
   "metadata": {},
   "outputs": [],
   "source": [
    "\"\"\"\n",
    "What is the value of the list?\n",
    "\n",
    "listing = [1, 3, 4]\n",
    "\n",
    "def what_if():\n",
    "    listing.append(5)\n",
    "\n",
    "print(listing)\n",
    "\"\"\"\n",
    "\n",
    "answer = []"
   ]
  },
  {
   "cell_type": "markdown",
   "id": "5503d56a",
   "metadata": {},
   "source": [
    "##### Question 16"
   ]
  },
  {
   "cell_type": "code",
   "execution_count": 69,
   "id": "80c439c4",
   "metadata": {},
   "outputs": [
    {
     "name": "stdout",
     "output_type": "stream",
     "text": [
      "[1, 1, 1, 1, 1, 1, 1, 1, 1, 1]\n"
     ]
    }
   ],
   "source": [
    "\"\"\"\n",
    "What is the output of this print statement?\n",
    "\n",
    "print([1]*10)\n",
    "\n",
    "A. [10]\n",
    "B. [1, 1, 1, 1, 1, 1, 1, 1, 1, 1]\n",
    "C. [[1], [1], [1], [1], [1], [1], [1], [1], [1], [1]]\n",
    "D. Error\n",
    "\"\"\"\n",
    "answer = \"\""
   ]
  },
  {
   "cell_type": "markdown",
   "id": "590ce410",
   "metadata": {},
   "source": [
    "##### Question 17"
   ]
  },
  {
   "cell_type": "code",
   "execution_count": null,
   "id": "fcafee3f",
   "metadata": {},
   "outputs": [],
   "source": [
    "\"\"\"\n",
    "Create a named \"unique_sorted\" that removes duplicates from the list and sort them in ascending order\n",
    "\"\"\"\n",
    "\n",
    "def unique_sorted([]):\n",
    "    \n",
    "    return []\n",
    "\n",
    "answer = unqiue_sorted"
   ]
  },
  {
   "cell_type": "markdown",
   "id": "cc0874ed",
   "metadata": {},
   "source": [
    "##### Question 18"
   ]
  },
  {
   "cell_type": "code",
   "execution_count": null,
   "id": "e84e6a45",
   "metadata": {},
   "outputs": [],
   "source": [
    "\"\"\"\n",
    "Create a 5x5 matrix using nested list comprehensions, where the numbers are from 0 to 24 in row major order but\n",
    "replaces numbers divisble by 3 to \"X\"\n",
    "\"\"\"\n",
    "answer = []\n"
   ]
  },
  {
   "cell_type": "markdown",
   "id": "71ab7181",
   "metadata": {},
   "source": [
    "##### Question 19"
   ]
  },
  {
   "cell_type": "code",
   "execution_count": null,
   "id": "cc18069a",
   "metadata": {},
   "outputs": [],
   "source": []
  },
  {
   "cell_type": "markdown",
   "id": "d5ced649",
   "metadata": {},
   "source": [
    "##### Question 20"
   ]
  },
  {
   "cell_type": "code",
   "execution_count": null,
   "id": "c9b2483c",
   "metadata": {},
   "outputs": [],
   "source": [
    "\"\"\"\n",
    "Why is Maria Lourdes Balane so pretty\n",
    "\"\"\""
   ]
  }
 ],
 "metadata": {
  "kernelspec": {
   "display_name": "Python (mlenv)",
   "language": "python",
   "name": "mlenv"
  },
  "language_info": {
   "codemirror_mode": {
    "name": "ipython",
    "version": 3
   },
   "file_extension": ".py",
   "mimetype": "text/x-python",
   "name": "python",
   "nbconvert_exporter": "python",
   "pygments_lexer": "ipython3",
   "version": "3.12.3"
  }
 },
 "nbformat": 4,
 "nbformat_minor": 5
}
