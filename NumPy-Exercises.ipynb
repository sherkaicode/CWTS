{
 "cells": [
  {
   "cell_type": "code",
   "execution_count": 1,
   "id": "56536794-2be2-41bb-a0f8-a2d1d5926097",
   "metadata": {},
   "outputs": [],
   "source": [
    "import numpy as np\n",
    "import pandas as pd\n",
    "import sys\n",
    "sys.path.append('./.Scripts') \n",
    "\n",
    "from checker_3 import check\n",
    "\n",
    "score = {}\n",
    "\n",
    "for i in range(1, 21):\n",
    "    score[f\"{i}\"] = 0\n",
    "\n",
    "def check_score(score):\n",
    "    total_sum = 0\n",
    "    for i in range(1, 21):\n",
    "        total_sum = total_sum + score[f\"{i}\"]\n",
    "    return f\"You Total Score is {total_sum}\""
   ]
  },
  {
   "cell_type": "markdown",
   "id": "da8c62d8-72bb-4458-bd9a-77faf874dfb1",
   "metadata": {},
   "source": [
    "### **Question 1**"
   ]
  },
  {
   "cell_type": "code",
   "execution_count": 2,
   "id": "e5d7fdae",
   "metadata": {},
   "outputs": [
    {
     "data": {
      "text/plain": [
       "'Answer must be a boolean'"
      ]
     },
     "execution_count": 2,
     "metadata": {},
     "output_type": "execute_result"
    }
   ],
   "source": [
    "num = 1\n",
    "\"\"\"\n",
    "True or False: A NumPy array can contain elements of different data types?\n",
    "\"\"\"\n",
    "answer = None\n",
    "\n",
    "check(num, answer, score)"
   ]
  },
  {
   "cell_type": "markdown",
   "id": "e2b94bca-4786-409f-b9b8-e7b765e62f80",
   "metadata": {},
   "source": [
    "### **Question 2**"
   ]
  },
  {
   "cell_type": "code",
   "execution_count": 3,
   "id": "3dfa4f44-6b82-403d-9bc1-826dad9bc536",
   "metadata": {},
   "outputs": [
    {
     "data": {
      "text/plain": [
       "'Answer must be a boolean'"
      ]
     },
     "execution_count": 3,
     "metadata": {},
     "output_type": "execute_result"
    }
   ],
   "source": [
    "num = 2\n",
    "\"\"\"\n",
    "True or False: NumPy is faster than Python lists for numerical operations.\n",
    "\"\"\"\n",
    "answer = None\n",
    "\n",
    "check(num, answer, score)"
   ]
  },
  {
   "cell_type": "markdown",
   "id": "daaa3c83-4295-4672-b1cd-48f410d54187",
   "metadata": {},
   "source": [
    "### **Question 3**"
   ]
  },
  {
   "cell_type": "code",
   "execution_count": 4,
   "id": "2d87c5e0-b906-439d-837b-dc09e4f1f9ee",
   "metadata": {},
   "outputs": [
    {
     "data": {
      "text/plain": [
       "'Answer must be a boolean'"
      ]
     },
     "execution_count": 4,
     "metadata": {},
     "output_type": "execute_result"
    }
   ],
   "source": [
    "num = 3\n",
    "\"\"\"\n",
    "True or False: np.arange can produce floating point values..\n",
    "\"\"\"\n",
    "answer = None\n",
    "\n",
    "check(num, answer, score)"
   ]
  },
  {
   "cell_type": "markdown",
   "id": "85907df1-6662-4c71-9cc8-11b27f374436",
   "metadata": {},
   "source": [
    "### **Question 4**"
   ]
  },
  {
   "cell_type": "code",
   "execution_count": 5,
   "id": "dd163a51-4d3f-4498-9fa7-f4ff568e0bb9",
   "metadata": {},
   "outputs": [
    {
     "data": {
      "text/plain": [
       "'Answer must be a NumPy array'"
      ]
     },
     "execution_count": 5,
     "metadata": {},
     "output_type": "execute_result"
    }
   ],
   "source": [
    "num = 4\n",
    "\n",
    "\"\"\"\n",
    "Create a 5x5 array of random values from 0-20, with step size of 5.\n",
    "\n",
    "Used random seed = 5\n",
    "\"\"\"\n",
    "\n",
    "answer = None\n",
    "\n",
    "check(num, answer, score)"
   ]
  },
  {
   "cell_type": "markdown",
   "id": "fbdd3126-ea1e-45ab-abb5-0680b192e7e8",
   "metadata": {},
   "source": [
    "### **Question 5**"
   ]
  },
  {
   "cell_type": "code",
   "execution_count": 6,
   "id": "53a12a1b-7bed-42e5-9800-f148308274cf",
   "metadata": {},
   "outputs": [
    {
     "data": {
      "text/plain": [
       "'Wrong, Try again'"
      ]
     },
     "execution_count": 6,
     "metadata": {},
     "output_type": "execute_result"
    }
   ],
   "source": [
    "num = 5\n",
    "\n",
    "\"\"\"\n",
    "What will be the output of the code below:\n",
    "\n",
    "        a = np.array([10, 20, 30, 40])\n",
    "        b = a[[1, 3]]\n",
    "        print(b)\n",
    "\"\"\"\n",
    "\n",
    "answer = []\n",
    "\n",
    "check(num, answer, score)"
   ]
  },
  {
   "cell_type": "markdown",
   "id": "4e4a41b1-a378-4e2a-8ddd-b942d8be42c8",
   "metadata": {},
   "source": [
    "### **Question 6**"
   ]
  },
  {
   "cell_type": "code",
   "execution_count": 7,
   "id": "afa92ca7-1710-453d-9cf0-0d855c71f01a",
   "metadata": {},
   "outputs": [
    {
     "data": {
      "text/plain": [
       "'Wrong, Try again'"
      ]
     },
     "execution_count": 7,
     "metadata": {},
     "output_type": "execute_result"
    }
   ],
   "source": [
    "num = 6\n",
    "\"\"\"\n",
    "What does np.linspace(0,1,5) return?\n",
    "\n",
    "A. [0, 0.2, 0.4, 0.6, 0.8]\n",
    "B. [0, 0.25, 0.5, 0.75, 1]\n",
    "C. [0, 0.5, 1]\n",
    "D. [0, 1, 2, 3, 4, 5]\n",
    "\n",
    "\"\"\"\n",
    "answer = \"\"\n",
    "\n",
    "check(num, answer, score)"
   ]
  },
  {
   "cell_type": "markdown",
   "id": "e6fcf476-3c5c-4cbd-9e12-e094ee145d1d",
   "metadata": {},
   "source": [
    "### **Question 7**"
   ]
  },
  {
   "cell_type": "code",
   "execution_count": 8,
   "id": "1c5fcaef-81da-4873-9afb-05e9e3271d50",
   "metadata": {},
   "outputs": [
    {
     "data": {
      "text/plain": [
       "'Wrong, Try again'"
      ]
     },
     "execution_count": 8,
     "metadata": {},
     "output_type": "execute_result"
    }
   ],
   "source": [
    "num = 7\n",
    "\"\"\"\n",
    "What does np.arange(3,10,2) return?\n",
    "\n",
    "A. [3, 5, 7, 9]\n",
    "B. [3, 4, 5, 6, 7, 8, ,9]\n",
    "C. [3, 6, 9]\n",
    "D. [2, 4, 6, 8]\n",
    "\n",
    "\"\"\"\n",
    "answer = \"\"\n",
    "\n",
    "check(num, answer, score)"
   ]
  },
  {
   "cell_type": "markdown",
   "id": "035afc82-b7fb-4271-b9a8-bf6ef09c6555",
   "metadata": {},
   "source": [
    "### **Question 8**"
   ]
  },
  {
   "cell_type": "code",
   "execution_count": 9,
   "id": "de8dbf26-d919-462a-ba1b-b0696e3808bb",
   "metadata": {},
   "outputs": [
    {
     "data": {
      "text/plain": [
       "'Wrong, Try again'"
      ]
     },
     "execution_count": 9,
     "metadata": {},
     "output_type": "execute_result"
    }
   ],
   "source": [
    "num = 8\n",
    "\"\"\"\n",
    "What does np.array([1,2,3]) do?\n",
    "\n",
    "A. Creates a list\n",
    "B. Creates a 1D array\n",
    "C. Creates a 2D array\n",
    "D. Creates a matrix\n",
    "\n",
    "\"\"\"\n",
    "answer = \"\"\n",
    "\n",
    "check(num, answer, score)"
   ]
  },
  {
   "cell_type": "markdown",
   "id": "82c0b419-49d6-4853-bc33-bab69055fb86",
   "metadata": {},
   "source": [
    "### **Question 9**"
   ]
  },
  {
   "cell_type": "code",
   "execution_count": 10,
   "id": "a3ba8045-a93d-4848-8dce-9285fc5d617c",
   "metadata": {},
   "outputs": [
    {
     "data": {
      "text/plain": [
       "'Wrong, Try again'"
      ]
     },
     "execution_count": 10,
     "metadata": {},
     "output_type": "execute_result"
    }
   ],
   "source": [
    "num = 9\n",
    "\"\"\"\n",
    "What function creates an array of evenly spaced values between 0 and 1 (inclusive)?\n",
    "\n",
    "A. np.arange(0, 1, 0.1)\n",
    "B. np.linspace(0, 1, 10)\n",
    "C. np.zeros(10)\n",
    "D. np.arange(0, 1, 1)\n",
    "\n",
    "\"\"\"\n",
    "answer = \"\"\n",
    "\n",
    "check(num, answer, score)"
   ]
  },
  {
   "cell_type": "markdown",
   "id": "d60d0565-94a4-4991-8276-8e8b8d09f5bc",
   "metadata": {},
   "source": [
    "### **Question 10**"
   ]
  },
  {
   "cell_type": "code",
   "execution_count": 11,
   "id": "68714687-b752-456b-9a8c-23e29b460056",
   "metadata": {},
   "outputs": [
    {
     "data": {
      "text/plain": [
       "'Wrong, Try again'"
      ]
     },
     "execution_count": 11,
     "metadata": {},
     "output_type": "execute_result"
    }
   ],
   "source": [
    "num = 10\n",
    "\"\"\"\n",
    "What does np.ones((2,3)) return?\n",
    "\n",
    "A. An array of 2 elements, with all values are equal to 3\n",
    "B. A 2x3 array filled with ones\n",
    "C. A 3x2 array filled with ones\n",
    "D. An identity matrix\n",
    "\n",
    "\"\"\"\n",
    "answer = \"\"\n",
    "\n",
    "check(num, answer, score)"
   ]
  },
  {
   "cell_type": "markdown",
   "id": "c16534d3-6975-4b8c-8dd1-f4a3649f33bd",
   "metadata": {},
   "source": [
    "### **Question 11**"
   ]
  },
  {
   "cell_type": "code",
   "execution_count": 12,
   "id": "db8fecc7-f4c0-41f8-9849-f73b40171cef",
   "metadata": {},
   "outputs": [
    {
     "data": {
      "text/plain": [
       "'Wrong, Try again'"
      ]
     },
     "execution_count": 12,
     "metadata": {},
     "output_type": "execute_result"
    }
   ],
   "source": [
    "num = 11\n",
    "\"\"\"\n",
    "What is the result of np.sin(np.pi / 2)?\n",
    "\n",
    "A. 0\n",
    "B. 1\n",
    "C. -1\n",
    "D. pi/2\n",
    "\"\"\"\n",
    "answer = \"\"\n",
    "\n",
    "check(num, answer, score)"
   ]
  },
  {
   "cell_type": "markdown",
   "id": "2eceae35-a0db-4595-8c99-982965db20ef",
   "metadata": {},
   "source": [
    "### **Question 12**"
   ]
  },
  {
   "cell_type": "code",
   "execution_count": 13,
   "id": "6cc6a41c-567f-429c-b171-b58bbaf478af",
   "metadata": {},
   "outputs": [
    {
     "data": {
      "text/plain": [
       "'Wrong, Try again'"
      ]
     },
     "execution_count": 13,
     "metadata": {},
     "output_type": "execute_result"
    }
   ],
   "source": [
    "num = 12\n",
    "\"\"\"\n",
    "What does array[1:4] return?\n",
    "\n",
    "A. Elements from index 1 to 3\n",
    "B. Elements from index 1 to 4\n",
    "C. Element at index 1\n",
    "D. Elements from 0 to 4\n",
    "\n",
    "\"\"\"\n",
    "answer = \"\"\n",
    "\n",
    "check(num, answer, score)"
   ]
  },
  {
   "cell_type": "markdown",
   "id": "64a59726-324d-4064-aee5-7c307ecafa53",
   "metadata": {},
   "source": [
    "### **Question 13**"
   ]
  },
  {
   "cell_type": "code",
   "execution_count": 14,
   "id": "ec9100b4-f2e9-4d49-98cc-7d7b5bd378e4",
   "metadata": {},
   "outputs": [
    {
     "data": {
      "text/plain": [
       "'Wrong, Try again'"
      ]
     },
     "execution_count": 14,
     "metadata": {},
     "output_type": "execute_result"
    }
   ],
   "source": [
    "num = 13\n",
    "\"\"\"\n",
    "np.mean computes the mean of the values. What does np.mean(np.array([1,2,3,4])) return?\n",
    "\n",
    "A. 2\n",
    "B. 2.5\n",
    "C. 3\n",
    "D. 10\n",
    "\n",
    "\"\"\"\n",
    "answer = \"\"\n",
    "\n",
    "check(num, answer, score)"
   ]
  },
  {
   "cell_type": "markdown",
   "id": "f5f528f3-d51f-4000-bf9a-2f6cbdeb5097",
   "metadata": {},
   "source": [
    "### **Question 14**"
   ]
  },
  {
   "cell_type": "code",
   "execution_count": 15,
   "id": "7ff4e085-9459-465e-9f0a-30030f40f0ba",
   "metadata": {},
   "outputs": [
    {
     "data": {
      "text/plain": [
       "'Wrong, Try again'"
      ]
     },
     "execution_count": 15,
     "metadata": {},
     "output_type": "execute_result"
    }
   ],
   "source": [
    "num = 14\n",
    "\"\"\"\n",
    "Compute the sine of 0, pi/2, and pi.\n",
    "\n",
    "\"\"\"\n",
    "\n",
    "def answer():\n",
    "    \"Answer here. return sine values\"\n",
    "\n",
    "check(num, answer, score)"
   ]
  },
  {
   "cell_type": "markdown",
   "id": "0ac0477b-aba6-4281-a3b2-dde0bddcb9d0",
   "metadata": {},
   "source": [
    "### **Question 15**"
   ]
  },
  {
   "cell_type": "code",
   "execution_count": 16,
   "id": "d2381fc3-f7a9-4877-a0ca-cef628a497a1",
   "metadata": {},
   "outputs": [
    {
     "data": {
      "text/plain": [
       "'Wrong, Try again'"
      ]
     },
     "execution_count": 16,
     "metadata": {},
     "output_type": "execute_result"
    }
   ],
   "source": [
    "num = 15\n",
    "\"\"\"\n",
    "Compute the exponential of values of the integers from -5 to 5\n",
    "\n",
    "\"\"\"\n",
    "\n",
    "import numpy as np\n",
    "\n",
    "def answer():\n",
    "    \"Answer here. return exp values\"\n",
    "\n",
    "check(num, answer, score)"
   ]
  },
  {
   "cell_type": "markdown",
   "id": "68637577-056a-44b7-b087-32bd044ff825",
   "metadata": {},
   "source": [
    "### **Question 16**"
   ]
  },
  {
   "cell_type": "code",
   "execution_count": 17,
   "id": "e49fe64a-3f96-42d5-a03b-d661a7dd3b22",
   "metadata": {},
   "outputs": [
    {
     "data": {
      "text/plain": [
       "'Wrong, Try again'"
      ]
     },
     "execution_count": 17,
     "metadata": {},
     "output_type": "execute_result"
    }
   ],
   "source": [
    "num = 16\n",
    "\"\"\"\n",
    "Make a function that check if theta is greater than pi. (return True of greater than and\n",
    "False otherwise)\n",
    "\n",
    "\"\"\"\n",
    "\n",
    "import numpy as np\n",
    "\n",
    "def answer(theta):\n",
    "    \"Answer here\"\n",
    "\n",
    "check(num, answer, score)"
   ]
  },
  {
   "cell_type": "markdown",
   "id": "3225b0d6-5aa4-4bcb-a8ce-7b540d0c66ef",
   "metadata": {},
   "source": [
    "### **Question 17**"
   ]
  },
  {
   "cell_type": "code",
   "execution_count": 18,
   "id": "3b34fca3-b1f7-48ae-b55b-65c630c4b3c8",
   "metadata": {},
   "outputs": [
    {
     "data": {
      "text/plain": [
       "'Wrong, Try again'"
      ]
     },
     "execution_count": 18,
     "metadata": {},
     "output_type": "execute_result"
    }
   ],
   "source": [
    "num = 17\n",
    "\"\"\"\n",
    "Yes or No. Will this code work? Note: np.dot is a dot product.\n",
    "\n",
    "import numpy as np\n",
    "\n",
    "a = np.array([1, 2])\n",
    "b = np.array([[1, 2], [3, 4]])\n",
    "result = np.dot(a, b)\n",
    "print(result)\n",
    "\n",
    "\"\"\"\n",
    "\n",
    "answer = \"\"\n",
    "\n",
    "check(num, answer, score)"
   ]
  },
  {
   "cell_type": "markdown",
   "id": "ade4b13d-053d-4fe4-a16c-388dc01ddda2",
   "metadata": {},
   "source": [
    "### **Question 18**"
   ]
  },
  {
   "cell_type": "code",
   "execution_count": 19,
   "id": "ee8bc448-9ef6-48a8-9f29-e5292ddea6d7",
   "metadata": {},
   "outputs": [
    {
     "data": {
      "text/plain": [
       "'Answer must be a NumPy Array'"
      ]
     },
     "execution_count": 19,
     "metadata": {},
     "output_type": "execute_result"
    }
   ],
   "source": [
    "num = 18\n",
    "\"\"\"\n",
    "Find all indices of value 5. Use numPy functions\n",
    "\n",
    "\"\"\"\n",
    "arr = np.array([1, 5, 3, 5, 2])\n",
    "\n",
    "answer = None\n",
    "\n",
    "check(num, answer, score)"
   ]
  },
  {
   "cell_type": "markdown",
   "id": "128ed5ec-0dbc-4a40-a007-a060dc26e636",
   "metadata": {},
   "source": [
    "### **Question 19**"
   ]
  },
  {
   "cell_type": "code",
   "execution_count": 20,
   "id": "630a5129-9e07-4235-a930-4e3f94685742",
   "metadata": {},
   "outputs": [
    {
     "data": {
      "text/plain": [
       "'Answer must be a NumPy Array'"
      ]
     },
     "execution_count": 20,
     "metadata": {},
     "output_type": "execute_result"
    }
   ],
   "source": [
    "num = 19\n",
    "\"\"\"\n",
    "Fill diagonal with 9s using a NumPy Function\n",
    "\n",
    "\"\"\"\n",
    "\n",
    "answer = None\n",
    "# Fill (NumPy Function)\n",
    "\n",
    "\n",
    "check(num, answer, score)"
   ]
  },
  {
   "cell_type": "markdown",
   "id": "0edbb5c3-204d-44ce-9a0f-46333c8dc435",
   "metadata": {},
   "source": [
    "### **Question 20**"
   ]
  },
  {
   "cell_type": "code",
   "execution_count": 21,
   "id": "a8e595b1-03b3-41ef-9c99-fa2d70363bdb",
   "metadata": {},
   "outputs": [
    {
     "data": {
      "text/plain": [
       "'Wrong, Try again'"
      ]
     },
     "execution_count": 21,
     "metadata": {},
     "output_type": "execute_result"
    }
   ],
   "source": [
    "num = 20\n",
    "\"\"\"\n",
    "Make a function that adds two NumPy arrays. Add checks when it is not valid to add functions. return \n",
    "the new array if valid and a message \"Invalid\" if not valid. \n",
    "\n",
    "\"\"\"\n",
    "\n",
    "def answer(a, b):\n",
    "    \"Answer here\"\n",
    "\n",
    "\n",
    "check(num, answer, score)"
   ]
  },
  {
   "cell_type": "markdown",
   "id": "dbea90b5-fdcb-44bc-b522-5e477a6e166f",
   "metadata": {},
   "source": [
    "### **Check Score**"
   ]
  },
  {
   "cell_type": "code",
   "execution_count": 22,
   "id": "e2bd7005-ba20-492b-8b0d-6c8ae90b23a1",
   "metadata": {},
   "outputs": [
    {
     "name": "stdout",
     "output_type": "stream",
     "text": [
      "You Total Score is 0\n"
     ]
    }
   ],
   "source": [
    "print(check_score(score))"
   ]
  }
 ],
 "metadata": {
  "kernelspec": {
   "display_name": "Python (mlenv)",
   "language": "python",
   "name": "mlenv"
  },
  "language_info": {
   "codemirror_mode": {
    "name": "ipython",
    "version": 3
   },
   "file_extension": ".py",
   "mimetype": "text/x-python",
   "name": "python",
   "nbconvert_exporter": "python",
   "pygments_lexer": "ipython3",
   "version": "3.12.3"
  }
 },
 "nbformat": 4,
 "nbformat_minor": 5
}
