{
 "cells": [
  {
   "cell_type": "markdown",
   "id": "46845a33",
   "metadata": {},
   "source": [
    "# Conditionals, List, and Functions Exercise"
   ]
  },
  {
   "cell_type": "code",
   "execution_count": 1,
   "id": "1ce6f192",
   "metadata": {},
   "outputs": [],
   "source": [
    "import numpy as np\n",
    "import pandas as pd\n",
    "from checker_2 import check\n",
    "\n",
    "score = {}\n",
    "\n",
    "for i in range(1, 21):\n",
    "    score[f\"{i}\"] = 0\n",
    "\n",
    "def check_score(score):\n",
    "    total_sum = 0\n",
    "    for i in range(1, 21):\n",
    "        total_sum = total_sum + score[f\"{i}\"]\n",
    "    return f\"You Total Score is {total_sum}\"\n"
   ]
  },
  {
   "cell_type": "markdown",
   "id": "613aef2a",
   "metadata": {},
   "source": [
    "##### Question 1"
   ]
  },
  {
   "cell_type": "code",
   "execution_count": 2,
   "id": "3bcfd1dc",
   "metadata": {},
   "outputs": [
    {
     "data": {
      "text/plain": [
       "'Wrong, Try again'"
      ]
     },
     "execution_count": 2,
     "metadata": {},
     "output_type": "execute_result"
    }
   ],
   "source": [
    "num = 1\n",
    "\"\"\"\n",
    "What is the value of the result?\n",
    "\n",
    "x = 10\n",
    "y = 5\n",
    "if x > y == True:\n",
    "    result = \"Yes\"\n",
    "else:\n",
    "    result = \"No\"\n",
    "\"\"\"\n",
    "\n",
    "answer = \"\"\n",
    "check(num, answer, score)"
   ]
  },
  {
   "cell_type": "markdown",
   "id": "79a9dc24",
   "metadata": {},
   "source": [
    "##### Question 2"
   ]
  },
  {
   "cell_type": "code",
   "execution_count": 3,
   "id": "d1a262de",
   "metadata": {},
   "outputs": [
    {
     "data": {
      "text/plain": [
       "'Wrong, Try again'"
      ]
     },
     "execution_count": 3,
     "metadata": {},
     "output_type": "execute_result"
    }
   ],
   "source": [
    "num = 2\n",
    "\"\"\"\n",
    "What is the output?\n",
    "\n",
    "if None or 0 or []:\n",
    "    print(\"True\")\n",
    "else:\n",
    "    print(\"False\")\n",
    "\"\"\"\n",
    "\n",
    "answer = \"\"\n",
    "check(num, answer, score)"
   ]
  },
  {
   "cell_type": "markdown",
   "id": "656963e8",
   "metadata": {},
   "source": [
    "##### Question 3"
   ]
  },
  {
   "cell_type": "code",
   "execution_count": 4,
   "id": "7e0df2d0",
   "metadata": {},
   "outputs": [
    {
     "data": {
      "text/plain": [
       "'Wrong, Try again'"
      ]
     },
     "execution_count": 4,
     "metadata": {},
     "output_type": "execute_result"
    }
   ],
   "source": [
    "num = 3\n",
    "\"\"\"\n",
    "What is the value of z?\n",
    "\n",
    "x = True\n",
    "y = False\n",
    "z = x or y and not x\n",
    "\"\"\"\n",
    "\n",
    "answer = None\n",
    "check(num, answer, score)"
   ]
  },
  {
   "cell_type": "markdown",
   "id": "d4343fa7",
   "metadata": {},
   "source": [
    "##### Question 4"
   ]
  },
  {
   "cell_type": "code",
   "execution_count": 5,
   "id": "506f602e",
   "metadata": {},
   "outputs": [
    {
     "data": {
      "text/plain": [
       "'Wrong, Try again'"
      ]
     },
     "execution_count": 5,
     "metadata": {},
     "output_type": "execute_result"
    }
   ],
   "source": [
    "num = 4\n",
    "\"\"\"\n",
    "What is the output of this conditional statement?\n",
    "\n",
    "print(1 < 2 < 3 == True)\n",
    "\"\"\"\n",
    "\n",
    "answer = None\n",
    "check(num, answer, score)"
   ]
  },
  {
   "cell_type": "markdown",
   "id": "8a611372",
   "metadata": {},
   "source": [
    "##### Question 5"
   ]
  },
  {
   "cell_type": "code",
   "execution_count": 6,
   "id": "46ab8c97",
   "metadata": {},
   "outputs": [
    {
     "data": {
      "text/plain": [
       "'Wrong, Try again'"
      ]
     },
     "execution_count": 6,
     "metadata": {},
     "output_type": "execute_result"
    }
   ],
   "source": [
    "num = 5\n",
    "\"\"\"\n",
    "What is the output? \n",
    "\n",
    "x = 1\n",
    "y = True\n",
    "print(x == y)\n",
    "\"\"\"\n",
    "\n",
    "answer = None\n",
    "check(num, answer, score)"
   ]
  },
  {
   "cell_type": "markdown",
   "id": "acce0a0f",
   "metadata": {},
   "source": [
    "##### Question 6"
   ]
  },
  {
   "cell_type": "code",
   "execution_count": 7,
   "id": "b0278c2e",
   "metadata": {},
   "outputs": [
    {
     "data": {
      "text/plain": [
       "'Wrong, Try again'"
      ]
     },
     "execution_count": 7,
     "metadata": {},
     "output_type": "execute_result"
    }
   ],
   "source": [
    "num = 6\n",
    "\"\"\"\n",
    "What is the output?\n",
    "\n",
    "x = 1\n",
    "y = True\n",
    "print(x is y)\n",
    "\"\"\"\n",
    "\n",
    "answer = None\n",
    "check(num, answer, score)"
   ]
  },
  {
   "cell_type": "markdown",
   "id": "ed06b40d",
   "metadata": {},
   "source": [
    "##### Question 7"
   ]
  },
  {
   "cell_type": "code",
   "execution_count": 8,
   "id": "52fa2431",
   "metadata": {},
   "outputs": [
    {
     "data": {
      "text/plain": [
       "'Wrong, Try again'"
      ]
     },
     "execution_count": 8,
     "metadata": {},
     "output_type": "execute_result"
    }
   ],
   "source": [
    "num = 7\n",
    "\"\"\"\n",
    "What is the value of this list?\n",
    "\n",
    "[x for x in range(5) if x % 2]\n",
    "\n",
    "\"\"\"\n",
    "\n",
    "answer = []\n",
    "check(num, answer, score)"
   ]
  },
  {
   "cell_type": "markdown",
   "id": "6e51630d",
   "metadata": {},
   "source": [
    "##### Question 8"
   ]
  },
  {
   "cell_type": "code",
   "execution_count": 9,
   "id": "62b4a3ba",
   "metadata": {},
   "outputs": [
    {
     "data": {
      "text/plain": [
       "'Wrong, Try again'"
      ]
     },
     "execution_count": 9,
     "metadata": {},
     "output_type": "execute_result"
    }
   ],
   "source": [
    "num = 8\n",
    "\"\"\"\n",
    "What is the value of this list?\n",
    "\n",
    "[i if i % 2 == 0 else i * 2 for i in range(5)]\n",
    "\"\"\"\n",
    "\n",
    "answer = []\n",
    "check(num, answer, score)"
   ]
  },
  {
   "cell_type": "markdown",
   "id": "6564bb84",
   "metadata": {},
   "source": [
    "##### Question 9"
   ]
  },
  {
   "cell_type": "code",
   "execution_count": 10,
   "id": "2c904846",
   "metadata": {},
   "outputs": [
    {
     "data": {
      "text/plain": [
       "'Wrong, Try again'"
      ]
     },
     "execution_count": 10,
     "metadata": {},
     "output_type": "execute_result"
    }
   ],
   "source": [
    "num = 9\n",
    "\"\"\"\n",
    "What is the value of the spliced list?\n",
    "\n",
    "l = [1, 2, 3, 4, 5]\n",
    "l[::-1]\n",
    "\"\"\"\n",
    "\n",
    "answer = []\n",
    "check(num, answer, score)"
   ]
  },
  {
   "cell_type": "markdown",
   "id": "b6e1122b",
   "metadata": {},
   "source": [
    "##### Question 10"
   ]
  },
  {
   "cell_type": "code",
   "execution_count": 11,
   "id": "b4a79777",
   "metadata": {},
   "outputs": [
    {
     "data": {
      "text/plain": [
       "'Wrong, Try again'"
      ]
     },
     "execution_count": 11,
     "metadata": {},
     "output_type": "execute_result"
    }
   ],
   "source": [
    "num = 10\n",
    "\"\"\"\n",
    "What is the value of the list nums?\n",
    "\n",
    "nums = []\n",
    "for i in range(5):\n",
    "    if i == 2:\n",
    "        break\n",
    "    nums.append(i)\n",
    "\"\"\"\n",
    "\n",
    "answer = []\n",
    "check(num, answer, score)"
   ]
  },
  {
   "cell_type": "markdown",
   "id": "1df33454",
   "metadata": {},
   "source": [
    "##### Question 11"
   ]
  },
  {
   "cell_type": "code",
   "execution_count": 12,
   "id": "55c30d5e",
   "metadata": {},
   "outputs": [
    {
     "data": {
      "text/plain": [
       "'Wrong, Try again'"
      ]
     },
     "execution_count": 12,
     "metadata": {},
     "output_type": "execute_result"
    }
   ],
   "source": [
    "num = 11\n",
    "\"\"\"\n",
    "What is printed?\n",
    "\n",
    "def foo(a=[]):\n",
    "    a.append(1)\n",
    "    return a\n",
    "\n",
    "print(foo(), end = \" \")\n",
    "print(foo())\n",
    "\n",
    "A. [1] [1]\n",
    "B. [1] [1, 1]\n",
    "C. [1, 1] [1]\n",
    "D. [] []\n",
    "\"\"\"\n",
    "answer = \"\"\n",
    "check(num, answer, score)"
   ]
  },
  {
   "cell_type": "markdown",
   "id": "f8718f24",
   "metadata": {},
   "source": [
    "##### Question 12"
   ]
  },
  {
   "cell_type": "code",
   "execution_count": 13,
   "id": "3373ea1e",
   "metadata": {},
   "outputs": [
    {
     "data": {
      "text/plain": [
       "'Wrong, Try again'"
      ]
     },
     "execution_count": 13,
     "metadata": {},
     "output_type": "execute_result"
    }
   ],
   "source": [
    "num = 12\n",
    "\"\"\"\n",
    "What will be the output?\n",
    "\n",
    "list_nums = [0, 9, 2, 1]\n",
    "list_nums.remove(3)\n",
    "print(list_nums)\n",
    "\n",
    "A. [0, 9, 2]\n",
    "B. [1]\n",
    "C. [0]\n",
    "D. Error\n",
    "\"\"\"\n",
    "\n",
    "answer = \"\"\n",
    "check(num, answer, score)"
   ]
  },
  {
   "cell_type": "markdown",
   "id": "ef86641a",
   "metadata": {},
   "source": [
    "##### Question 13"
   ]
  },
  {
   "cell_type": "code",
   "execution_count": 14,
   "id": "8a23adab",
   "metadata": {},
   "outputs": [
    {
     "data": {
      "text/plain": [
       "'Wrong, Try again'"
      ]
     },
     "execution_count": 14,
     "metadata": {},
     "output_type": "execute_result"
    }
   ],
   "source": [
    "num = 13\n",
    "\"\"\"\n",
    "What will be the output?\n",
    "\n",
    "list_nums = [0, 9, 2, 1]\n",
    "list_nums.insert(4, 2)\n",
    "print(list_nums)\n",
    "\n",
    "A. Error\n",
    "B. [0, 4, 9, 2, 1]\n",
    "C. [0, 2, 9, 2, 1]\n",
    "D. [0, 9, 2, 1, 2]\n",
    "\"\"\"\n",
    "\n",
    "answer = \"\"\n",
    "check(num, answer, score)"
   ]
  },
  {
   "cell_type": "markdown",
   "id": "856d69ee",
   "metadata": {},
   "source": [
    "##### Question 14"
   ]
  },
  {
   "cell_type": "code",
   "execution_count": 15,
   "id": "cac417ef",
   "metadata": {},
   "outputs": [
    {
     "data": {
      "text/plain": [
       "'Wrong, Try again'"
      ]
     },
     "execution_count": 15,
     "metadata": {},
     "output_type": "execute_result"
    }
   ],
   "source": [
    "num = 14\n",
    "\"\"\"\n",
    "What is the output of this code block?\n",
    "\n",
    "class maker:\n",
    "    def __init__(self):\n",
    "        self.me = \"me\"\n",
    "        \n",
    "        print(self.make())\n",
    "    def make(self):\n",
    "        return \"WHAT\"\n",
    "    \n",
    "    def make(self):\n",
    "        return \"Ha?\"\n",
    "\n",
    "a = maker()\n",
    "\"\"\"\n",
    "\n",
    "answer = \"\"\n",
    "check(num, answer, score)"
   ]
  },
  {
   "cell_type": "markdown",
   "id": "10b25a31",
   "metadata": {},
   "source": [
    "##### Question 15"
   ]
  },
  {
   "cell_type": "code",
   "execution_count": 16,
   "id": "7ce51582",
   "metadata": {},
   "outputs": [
    {
     "data": {
      "text/plain": [
       "'Wrong, Try again'"
      ]
     },
     "execution_count": 16,
     "metadata": {},
     "output_type": "execute_result"
    }
   ],
   "source": [
    "num = 15\n",
    "\"\"\"\n",
    "What is the value of the list?\n",
    "\n",
    "listing = [1, 3, 4]\n",
    "\n",
    "def what_if():\n",
    "    listing.append(5)\n",
    "\n",
    "what_if()\n",
    "print(listing)\n",
    "\"\"\"\n",
    "\n",
    "answer = []\n",
    "check(num, answer, score)"
   ]
  },
  {
   "cell_type": "markdown",
   "id": "5503d56a",
   "metadata": {},
   "source": [
    "##### Question 16"
   ]
  },
  {
   "cell_type": "code",
   "execution_count": 17,
   "id": "80c439c4",
   "metadata": {},
   "outputs": [
    {
     "data": {
      "text/plain": [
       "'Wrong, Try again'"
      ]
     },
     "execution_count": 17,
     "metadata": {},
     "output_type": "execute_result"
    }
   ],
   "source": [
    "num = 16\n",
    "\"\"\"\n",
    "What is the output of this print statement?\n",
    "\n",
    "print([1]*10)\n",
    "\n",
    "A. [10]\n",
    "B. [1, 1, 1, 1, 1, 1, 1, 1, 1, 1]\n",
    "C. [[1], [1], [1], [1], [1], [1], [1], [1], [1], [1]]\n",
    "D. Error\n",
    "\"\"\"\n",
    "answer = \"\"\n",
    "check(num, answer, score)"
   ]
  },
  {
   "cell_type": "markdown",
   "id": "2aa80f7a",
   "metadata": {},
   "source": [
    "##### Question 17"
   ]
  },
  {
   "cell_type": "code",
   "execution_count": 18,
   "id": "7750398c",
   "metadata": {},
   "outputs": [
    {
     "data": {
      "text/plain": [
       "'Wrong, Try again'"
      ]
     },
     "execution_count": 18,
     "metadata": {},
     "output_type": "execute_result"
    }
   ],
   "source": [
    "num = 17\n",
    "\"\"\"\n",
    "Create a named \"unique_sorted\" that removes duplicates from the list and sort them in ascending order\n",
    "\"\"\"\n",
    "\n",
    "def unique_sorted(lst):\n",
    "    \n",
    "    return []\n",
    "\n",
    "answer = unique_sorted\n",
    "check(num, answer, score)"
   ]
  },
  {
   "cell_type": "markdown",
   "id": "4e654177",
   "metadata": {},
   "source": [
    "##### Question 18"
   ]
  },
  {
   "cell_type": "code",
   "execution_count": 19,
   "id": "987d0aac",
   "metadata": {},
   "outputs": [
    {
     "data": {
      "text/plain": [
       "'Wrong, Try again'"
      ]
     },
     "execution_count": 19,
     "metadata": {},
     "output_type": "execute_result"
    }
   ],
   "source": [
    "num = 18\n",
    "\"\"\"\n",
    "Create a 5x5 matrix using nested list comprehensions, where the numbers are from 0 to 24 in row major order but\n",
    "replaces numbers divisble by 3 to \"X\"\n",
    "\"\"\"\n",
    "answer = []\n",
    "\n",
    "check(num, answer, score)"
   ]
  },
  {
   "cell_type": "markdown",
   "id": "23c05cbf",
   "metadata": {},
   "source": [
    "##### Question 19"
   ]
  },
  {
   "cell_type": "code",
   "execution_count": 20,
   "id": "4857ad4a",
   "metadata": {},
   "outputs": [
    {
     "data": {
      "text/plain": [
       "'Wrong, Try again'"
      ]
     },
     "execution_count": 20,
     "metadata": {},
     "output_type": "execute_result"
    }
   ],
   "source": [
    "num = 19\n",
    "\"\"\"\n",
    "Write a function categorize_number(n) that takes a number and returns a string label according to these rules:\n",
    "\n",
    "1. If n is divisible by both 3 and 5, return \"FizzBuzz\".\n",
    "\n",
    "2. If it's only divisible by 3, return \"Fizz\".\n",
    "\n",
    "3. If it's only divisible by 5, return \"Buzz\".\n",
    "\n",
    "4. If it's a prime number and not divisible by 3 or 5, return \"Prime\".\n",
    "\n",
    "5. If it's a negative number, return \"Negative\".\n",
    "\n",
    "6. Otherwise, return \"Other\".\n",
    "\n",
    "Do no use if-else\n",
    "\"\"\"\n",
    "def is_prime(n):\n",
    "    return n > 1 and all(n % i for i in range(2, int(n**0.5) + 1))\n",
    "\n",
    "def categorize_number(n):\n",
    "    return \"\"\n",
    "\n",
    "answer = categorize_number\n",
    "check(num, answer, score)"
   ]
  },
  {
   "cell_type": "markdown",
   "id": "cc59d22e",
   "metadata": {},
   "source": [
    "##### Question 20"
   ]
  },
  {
   "cell_type": "code",
   "execution_count": 21,
   "id": "2769397d",
   "metadata": {},
   "outputs": [
    {
     "data": {
      "text/plain": [
       "'Wrong, Try again'"
      ]
     },
     "execution_count": 21,
     "metadata": {},
     "output_type": "execute_result"
    }
   ],
   "source": [
    "num = 20\n",
    "\"\"\"\n",
    "Write a function sliced_splice(lst) that takes a list of at least 10 integers and returns a new list made by:\n",
    "\n",
    "1. Taking every 2nd element from the 2nd to 8th position (inclusive)\n",
    "\n",
    "2. Reversing the last 4 elements\n",
    "\n",
    "3. Taking the first 3 elements in reverse order\n",
    "\n",
    "4. Concatenating all three slices in that order\n",
    "\"\"\"\n",
    "\n",
    "def sliced_splice(lst):\n",
    "    return []\n",
    "\n",
    "answer = sliced_splice\n",
    "check(num, answer, score)"
   ]
  },
  {
   "cell_type": "code",
   "execution_count": 22,
   "id": "429cd1cd",
   "metadata": {},
   "outputs": [
    {
     "data": {
      "text/plain": [
       "'You Total Score is 0'"
      ]
     },
     "execution_count": 22,
     "metadata": {},
     "output_type": "execute_result"
    }
   ],
   "source": [
    "# Check Score\n",
    "check_score(score)"
   ]
  }
 ],
 "metadata": {
  "kernelspec": {
   "display_name": "Python (mlenv)",
   "language": "python",
   "name": "mlenv"
  },
  "language_info": {
   "codemirror_mode": {
    "name": "ipython",
    "version": 3
   },
   "file_extension": ".py",
   "mimetype": "text/x-python",
   "name": "python",
   "nbconvert_exporter": "python",
   "pygments_lexer": "ipython3",
   "version": "3.12.3"
  }
 },
 "nbformat": 4,
 "nbformat_minor": 5
}
